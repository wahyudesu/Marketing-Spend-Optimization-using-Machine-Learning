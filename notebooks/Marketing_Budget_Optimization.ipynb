{
  "cells": [
    {
      "attachments": {},
      "cell_type": "markdown",
      "id": "e21d2c03",
      "metadata": {
        "id": "e21d2c03"
      },
      "source": [
        "# **Marketing Spend Optimization using Machine Learning in Python**"
      ]
    },
    {
      "attachments": {},
      "cell_type": "markdown",
      "id": "8ed28017",
      "metadata": {
        "id": "8ed28017"
      },
      "source": [
        "# **Introduction**\n",
        "\n",
        "A company specializing in B2C sales (product: Data Science and Data Engineering related courses) spends significant money on marketing campaigns across various channels such as social media, email, and search advertising. More information on marketing sources can be found in the data column “Marketing Source”. The marketing team faces challenges in optimizing the marketing budget allocation across these channels to maximize revenue and return on investment (ROI).<br><br>\n",
        "This project aims to develop a data-driven approach to optimize the marketing budget allocation across various channels to maximize revenue and ROI. By using machine learning algorithms, the marketing team can make informed decisions about allocating the marketing budget based on predicted revenue and ROI.\n",
        "\n",
        "![image.png](https://uploads-ssl.webflow.com/614248409efa35f4fda157dc/62464db2123a7a4921cb040c_campaign-budget-optimization.jpg)\n",
        "Credit: Dabmatch\n"
      ]
    },
    {
      "attachments": {},
      "cell_type": "markdown",
      "id": "4ef2ce3b",
      "metadata": {
        "id": "4ef2ce3b"
      },
      "source": [
        "### **Business Impact of Marketing Budget Optimization**\n",
        "\n",
        "\n",
        "**Increase product conversions**: Marketing Budget Optimization leads to righ user targeting through right channels/assets which leads to better conversions.\n",
        "\n",
        "\n",
        "\n",
        "**Increase revenue**: Increased conversions(as mentioned in point above) will lead to more revenue or buyer engagement. For example, if the company is able to target a user who is more active on Instagram, chances are more that he/she will click on the Ad and add the product to cart. So overall probability of an order increases and hence the revenue.\n",
        "\n",
        "\n",
        "\n",
        "**Improve budget allocation**: Over budgeting on non-efficient channels lead to waste of marketing money without getting enough revenue.\n",
        "\n",
        "**Improve Customer Acquisition Cost**: Customer Acquisition Cost(CAC) improves if right targeting channels are used for a customer often leading to better repeat rates as well.\n"
      ]
    },
    {
      "attachments": {},
      "cell_type": "markdown",
      "id": "cd687680",
      "metadata": {
        "id": "cd687680"
      },
      "source": [
        "### **Why Data Science?**\n",
        "Companies do digital and offline marketing through various channels such as social media, email, and search advertising. They have a fixed budget which they can spend across these channels to get more sales, acquire new customers or regain old customers.\n",
        "\n",
        "\n",
        "Often they have vast majority of data on how efficient each of these channels have been for them and how much sales it is driving. If you do a simple vanilla analysis of channels vs revenue correlation you could get meaningful insights. Now imagine if a model is supplied with such rich and crucial data?\n",
        "\n",
        "\n",
        "Data science enables these companies to build a model which can help them understand the likelihood of a conversion or in other words a customer buying their products if the latter is targeted through a specific channel. Model understands the historical nuances and builds the internal model parameters so as to tell the team where they should focus on spending their marketing budget!"
      ]
    },
    {
      "attachments": {},
      "cell_type": "markdown",
      "id": "9658da15",
      "metadata": {
        "id": "9658da15"
      },
      "source": [
        "# **Possible Solutions**"
      ]
    },
    {
      "attachments": {},
      "cell_type": "markdown",
      "id": "c01152c4",
      "metadata": {
        "id": "c01152c4"
      },
      "source": [
        "## **Methods for Marketing Budget Optimization**\n",
        "\n",
        "\n",
        "There are various ways to build a model for marketing budget optimization, and the choice depends on factors such as the data available, the complexity of the system, and the computational resources available. Some approaches are:\n",
        "\n",
        "\n",
        "### **1. Rule-based systems:**\n",
        " In this approach, we typically look at budget proportion allocation based on predefined rules. Rule-based systems are easy to implement and interpret, but they may not be very accurate or adaptive. It makes sense to use them when you have a specific business mandate (example - ease of managing ads or segment of users you want to target).\n",
        "\n",
        "\n",
        "### **2. Statistical techniques:**\n",
        " Statistical techniques such as correlation, probability are very helpful to find the righ budget mix for each marketing channel. In this approach, we use historical data to come up with priors and correlations to do budget allocation.\n",
        "\n",
        "\n",
        "### **3. Linear optimizatiom:**\n",
        "In this approach, we define the objective function(e.g. increase conversion, reduce total cost) and the constraints(e.g. we should not spend more than 1000$ on Instagram) to come up with a linear equation. The linear equation is usually solved using a solver such as Gurobi, Pulp, etc. for the right solution which gives the amount of money company needs to spend on each channel.\n",
        "\n",
        "\n",
        "### **4. Machine learning:**\n",
        "Machine learning systems combines strength of historical data and statistical techniques to explain the right channel for individual customers of the company. For example, a ML system can tell with a high confidence if a potentail customer will click on the ad or not."
      ]
    },
    {
      "attachments": {},
      "cell_type": "markdown",
      "id": "5b84de32",
      "metadata": {
        "id": "5b84de32"
      },
      "source": [
        "### **Assumptions**\n",
        "\n",
        "* We assume that <b>Interest Level</b> is our target variable which refers to the interest of a user for a lead id\n",
        "* We assume that whenever the target variable is NA or Not called, the corresponding lead id is not meaningful and hence dropped\n",
        "* If the model's prediction is very close to 1, it means that the user is very likely to engage with the lead id\n",
        "* Columns with a lot of null values are not meaningful and imputation also won't be helpful"
      ]
    },
    {
      "attachments": {},
      "cell_type": "markdown",
      "id": "8d5147ac",
      "metadata": {
        "id": "8d5147ac"
      },
      "source": [
        "## **Approach**\n",
        "\n",
        "\n",
        "We are treating this problem as an supervised learning problem. So every data point will have a target variable for the model to learn the dependencies and predict on the unknown.\n",
        "\n",
        "\n",
        "In real life, this model would tell the business whether a user is likely to engage with the ad or not and that would in turn help the company to allocate budgets accordingly.\n",
        "\n",
        "\n",
        "Given our assumptions about the data, we will build a prediction model based on the historical data. Simplifying, here's the logic of what we'll build:\n",
        "\n",
        "\n",
        "1. We'll build a model to identify if a customer will be interested in the lead;\n",
        "2. We'll use various tree based model and compare their performance on interest prediction;\n",
        "3. We will then choose the most successful model to use in production;\n",
        "\n",
        "* Exploratory Data Analysis (EDA):\n",
        "  * Understand the features and their relationships with target variables\n",
        "  * Check for missing or invalid values and their imputation\n",
        "\n",
        "\n",
        "* Data Preprocessing:\n",
        "  * Encode the variables using label encoding\n",
        "  * Split the dataset into training and testing sets\n",
        "\n",
        "* Model Building and Testing:\n",
        "  * Random Forest\n",
        "  * Light Gradient Boosting\n",
        "  * Extreme Gradient Boosting\n"
      ]
    },
    {
      "attachments": {},
      "cell_type": "markdown",
      "id": "5654955d",
      "metadata": {
        "id": "5654955d"
      },
      "source": [
        "**Supervised Machine Learning:**\n",
        "\n",
        "In supervised machine learning, the algorithm is trained on an labeled dataset with a predefined target variable. The goal is to identify patterns, relationships, and structures of the data with the target variable, such as logistic regression, decision tree or boosting trees"
      ]
    },
    {
      "attachments": {},
      "cell_type": "markdown",
      "id": "bbe3927d",
      "metadata": {
        "id": "bbe3927d"
      },
      "source": [
        "# **Learning Outcomes**\n",
        "\n",
        "\n",
        "\n",
        "* Understanding the importance of data-driven decision-making in marketing budget allocation.\n",
        "\n",
        "* Leveraging machine learning algorithms to optimize marketing budget allocation and maximize revenue and ROI.\n",
        "\n",
        "* Identifying the significance of targeting the right users through the appropriate channels and assets for improved conversions.\n",
        "\n",
        "* Data preprocessing, encoding, and splitting into training and testing sets\n",
        "\n",
        "* Recognizing the impact of targeted marketing on customer acquisition costs and improving customer retention.\n",
        "\n",
        "* Understanding and Implementing Tree-based models like Random Forest, Light Gradient Boosting, and Extreme Gradient Boosting to effectively predict interest.\n",
        "\n",
        "* What are PR and AUC curves? And how do they help in chosing the right threshold?\n",
        "\n",
        "* Improving overall business performance by aligning marketing efforts with customer preferences and behavior.\n",
        "\n"
      ]
    },
    {
      "attachments": {},
      "cell_type": "markdown",
      "id": "b846ebce",
      "metadata": {
        "id": "b846ebce"
      },
      "source": [
        "## **Prerequisites**\n",
        "\n",
        "* Familiarity with Python programming language\n",
        "\n",
        "* Familiarity with Pandas, sklearn, numpy libraries in Python, along with concepts like loops, lists, arrays and dataframe\n",
        "\n",
        "* Basic knowledge of machine learning concepts such as supervised learning, tree models\n",
        "\n",
        "* Understanding of data preprocessing techniques such as handling missing values, outliers, and categorical variables\n",
        "\n",
        "* Knowledge of Jupyter Notebook or any other Python IDE.\n",
        "\n",
        "* Understanding metrics such as precision, recall, PR curve, AUC curve\n"
      ]
    },
    {
      "attachments": {},
      "cell_type": "markdown",
      "id": "ex65xkSH9f_B",
      "metadata": {
        "id": "ex65xkSH9f_B"
      },
      "source": [
        "## **Execution Instructions**"
      ]
    },
    {
      "attachments": {},
      "cell_type": "markdown",
      "id": "hPCBQfuj9m8e",
      "metadata": {
        "id": "hPCBQfuj9m8e"
      },
      "source": [
        "<details>\n",
        "    <summary>Click here to view more</summary>\n",
        "\n",
        "\n",
        "### **Installation and Setup for IPYNB**\n",
        "\n",
        "For the best experience, please stay connected to the internet while executing this Project\n",
        "\n",
        "#### **Running an IPYNB on Google Colab**:\n",
        "\n",
        "* Open the [Google Colab website](https://colab.research.google.com/).\n",
        "* Click on the \"New Notebook\" button.\n",
        "* Click the \"File\" menu in the new notebook and choose \"Upload notebook.\"\n",
        "* Select the IPYNB file(notebooks/churn_modeling.ipynb) you want to upload.\n",
        "* Once the file is uploaded, click on the \"Runtime\" menu and choose \"Run all\" to execute all the cells in the notebook.\n",
        "* Alternatively, you can execute each cell individually by clicking the \"Play\" button next to the cell OR by pressing `\"shift” + \"enter\"`.\n",
        "* The Default version of Python that Colab uses currently is 3.8\n",
        "\n",
        "#### **Python setup steps for Local Machine**:\n",
        "* If you're using a local machine and do not have Python installed, follow these steps to set up Python:\n",
        "* Download and install the latest version of Python from the official Python website: https://www.python.org/downloads/.\n",
        "* Once the installation is complete, open a command prompt/terminal and type the following command to check if Python is installed `python –-version`\n",
        "* If Python is installed, the version number will be displayed.\n",
        "* This Project has been created using **Python version 3.8.10**\n",
        "\n",
        "#### **Setting up a Python Virtual Environment on Windows**\n",
        "\n",
        "* Open a command prompt by pressing `Windows Key + R`, type `cmd`, and press `Enter`.\n",
        "* Navigate to the directory where you want to create the virtual environment.\n",
        "* Install virtualenv by running the command in the command prompt `pip install virtualenv`\n",
        "* Create a new virtual environment by running the command `virtualenv env`\n",
        "* This will create a new directory called `env`, containing the virtual environment.\n",
        "* Activate the virtual environment by running the command `env\\Scripts\\activate`\n",
        "* You can now install packages and work on your project within this virtual environment.\n",
        "* To deactivate the virtual environment, simply run the command `deactivate`\n",
        "\n",
        "#### **Setting up a Python Virtual Environment on Mac**\n",
        "\n",
        "* Open the Terminal by pressing `Command + Spacebar`, type `Terminal`, and press `Enter`.\n",
        "* Navigate to the directory where you want to create the virtual environment.\n",
        "* Install virtualenv by running the following command in the terminal `pip install virtualenv`\n",
        "* Create a new virtual environment by running the following command `virtualenv env`\n",
        "* This will create a new directory called `env`, containing the virtual environment.\n",
        "* Activate the virtual environment by running the following command `source env/bin/activate`\n",
        "* You can now install packages and work on your project within this virtual environment.\n",
        "* To deactivate the virtual environment, simply run the following command `deactivate`\n",
        "\n",
        "#### **Setting up a Python Virtual Environment on Linux**\n",
        "\n",
        "* Open the Terminal by pressing `Ctrl + Alt + T`.\n",
        "* Navigate to the directory where you want to create the virtual environment.\n",
        "* Install `virtualenv` by running the following command in the terminal `sudo apt-get install python3-virtualenv`\n",
        "* Create a new virtual environment by running the following command `virtualenv -p python3 env`\n",
        "* This will create a new directory called `env`, containing the virtual environment.\n",
        "* Activate the virtual environment by running the following command `source env/bin/activate`\n",
        "* You can now install packages and work on your project within this virtual environment.\n",
        "* To deactivate the virtual environment, simply run the following command `deactivate`\n",
        "\n",
        "#### **Installing Jupyter with pip**\n",
        "If pip is installed on your local machine, you can install Jupyter.\n",
        "\n",
        "Here are the steps:\n",
        "* Open the command prompt (Windows) or terminal (Mac/Linux).\n",
        "* Install Jupyter with pip by running the following command `pip install jupyter`\n",
        "* Launch Jupyter Notebook by running the following command `jupyter notebook`\n",
        "\n",
        "#### **Installing Jupyter with Conda**\n",
        "\n",
        "* Download and install Anaconda from the official website: https://www.anaconda.com/products/individual.\n",
        "* Open the Anaconda Navigator App and launch Jupyter Notebook\n",
        "* Running IPYNB in Jupyter Notebook\n",
        "* Open Terminal / Command Prompt and Navigate to the notebooks directory using cd\n",
        "* Launch Jupyter Notebook by running the following command jupyter notebook\n",
        "* This will open a browser window displaying the Jupyter interface.\n",
        "* Click on the IPYNB file you want to open.\n",
        "* To execute all the cells in the notebook, click on the \"Cell\" menu and choose \"Run all\".\n",
        "* Alternatively, you can execute each cell individually by clicking on the \"Play\" button next to the cell.\n",
        "\n",
        "\n",
        "\n",
        "# Executing the project via Modular Code\n",
        "* Install the dependencies using the command, navigate to the **Marketing Spend Optimization using Machine Learning in Python** directory where the requirements.txt file exists, and run ***pip install -r requirements.txt*** in the terminal/CMD.\n",
        "\n",
        "* Navigate to the src folder in the project directory using the cd command\n",
        "* Run the command python Engine.py in Terminal or run the Engine.py file in either VScode or PyCharm.\n",
        "\n",
        "![multi-level.png](data:image/png;base64,iVBORw0KGgoAAAANSUhEUgAABDEAAAI2CAYAAABJ3xMPAAAAAXNSR0IArs4c6QAAAARnQU1BAACxjwv8YQUAAAAJcEhZcwAAEnQAABJ0Ad5mH3gAAG+fSURBVHhe7d09azLL+8Dx6/dv8kaEmyCkscsrEHLAdOkCdnZpgmWKlJImnZ2QLl2EE/AVpLMJhHCDb8Tq/Odhd90n3VmdVUe/H9hz7pjNPs7Mzlw7M/5vuVz+JwAAAAAAAEfu/6L/AwAAAAAAHDWCGAAAAAAAIAgEMQAAAAAAQBAIYgAAAAAAgCAQxAAAAAAAAEEgiAEAAAAAAIJAEAMAAAAAAASBIAYAAAAAAAgCQQwAAAAAABAEghgAAAAAACAIBDEAAAAAAEAQCGIAAAAAAIAgEMQAAAAAAABBIIgBAAAAAACCQBADAAAAAAAEgSAGAAAAAAAIQmNBjNngQi4Gs+gnAAAAAACA3dATAwAAAAAABIEgBgAAAAAACAJBDAAAAAAAEASCGDKTwcWFXL8uop8BAAAAAMAxIoixM4IgAAAAAADsA0EMAAAAAAAQBIIYAAAAAAAgCGcYxFjI6/WFXFzES08m0W8yFq9ynaxjl8Es+p2yeL3O/P182M6sWxheUrE9AAAAAACw2XkFMUwgoS3vdz+yXC6jZSr96NcrMxnci7wl6yzlZ9SRSe9a4thE6+Er8/edUXqbS/l6aNkVjertAQAAAACAzc4qiDF7Gcq8M5K3TIChTFfGXw+SXqv18CR9mcv75zZRB9/bAwAAAADg/DQbxJj0MsMnLi7+kX8yP69bXNcbiPuIjJl8TEQ6dzeZYAIAAAAAAAhDs0GM/jQzxGK5/Ff+zfy8bnFdbyzdaFe+rea8iJc1c2c48r09AAAAAADOzRlO7FlNBxzaw7n0p+mASdncGW58bw8AAAAAgHN0RkGMllx2ROa/2TkoFq/PuR4RC/l8n+uZOuXRqZtH+XZX6m4PAAAAAACUOasgxs1dR2TynHwjiOkh8X4lffXxSkv+XKn/zd8lmXPTfKvJuuEf0fqp7WbV3R4AAAAAAChzVsNJ9NeiTvtzGbbtvBTt3ydZfj3KZfT7WHf8I6POar2L9rvc/ejPohVyCuur5ToV0ai7PQAAAAAAUPS/5XL5X/Rvr2aDC+nJVJZjxlAAAAAAAIDdMbEnAAAAAAAIAkEMAAAAAAAQBIIYAAAAAAAgCAQxAAAAAABAEM42iKEnHr0YzKKfAAAAAADAsaMnBgAAAAAACAJBDAAAAAAAEASCGAAAAAAAIAgEMQAc1OL1Wi4uBnIyM9QsXuX64sLfOfneXpVkf9Fy/SqL6Fd7se/zPRDndH/o+5Exk4E6huvXwx2BH6dyHgAAnCeCGACAldaDfC2XslTLtB99hsgBGr8ndT8IHgAAgN0RxADgX/7tcWG5lpNtxySNzrF0o4924nt7x+7czhcAAAC1EMQAzlDjQzhSb4+Xyx8ZddRnnZH8JJ99yUPLrgoAAAAArghiHBPz9tq+obaNzA1vrUvedA9SLdLZQH22duw0XXrPmU4b7eFcOqPHI3vTvZDX61V6Lk+f2XV279Fh88Jqe9l8ZLjmyzpzF6ztqZLapuP2zDGZ3+XOpXAiSkW5cVAu52vW0ddoda76+JP7Ev+N63pmVf1ZPqAX/V10cVb3vScT9fN82I5+tkshrda6zrk0vdMN8Z0/8tuz519Qcb7NXj8X1efhkg7scdVIVyX5kucuAAC7I4hxdOYybKtG5u9T6i22+uw+XaFXlaJ7kbfkrfZSfkYdmfRWFdbWZUdt6jf1N4CtyPdU7b0/XcrXUXWFmEjvoi2/T1GanvZNQyfbcNGNgbYMr6apdC8mv2zVwDENkp58j35y+ahsew750nXuAr3f9lAk2W/UU0U66qNUDxXX7WnzobTVuYi6r2ab+g8mveL1qyg3DqrG+b7fP8vlj71u+n6Z+6ISQ0ddh5fUObuuV6X18BVds6noQ+uk0oxesnmpznXOpXt9bOq+bdfQbSJ/tOX9Ln2u9vyzHJ5HjV0/B87n4c45XeXzpb0h290PAACQIIhxjPqqEjqO35G35OYuH5DoyvjrQf1mpfXwpCplc3n/tGu1/lyp/37L3+iPTM+MuOa0+Kt+I3L155gasWhW1MCZ64byUpLkdUR0YCU5ru6taWR8xwlYWbw+qyZfX6apg289vNmGxEfdVsFCXu+HMld5Ld2A0o0t0/5/TgcNI5X50s3i813l1L48raIV8vCmGkDq09+6G0upun4u5UYY5jK/epKHVktMMaeDP49lCdp1Pd/qXefMfWs9yJO6cfP3z/rpymv+UCXGi8ofnZG8ZQIMZXynK7/bcz8PV/XSVdn9LS1fAACAs/MOYkx6SRdPu/wj/2R+Xre4rrfdnAP922yFyL7FqjnJXetSVa1iM/nQfWcnH6nj6cilrzodjlvU42Bi5qQ41rko+pJL9sY8adUv5PN9rjNHLh9EDYnvv/UaBYtP0ZvrlGSC7q1pRUq+veQlXzam6vqdlsy96NzJzZo07bre4RTv23a96Dznj+iZ0bm7yQQTwtPMebinK1/3FwAApJ1tEKM7jruVppd/5d/CZ2WL63rNNXBWY4zjJTfGt/VHriR6szv7kEl/JKPORMwLucWv+s2V0BHjPJg3kfofDhVn02Mnk66OZQz3Qn71SRQCj3Z4zLaNgkP0Rmrd3ElH5dbn5LpGvULWBCJ8qiw34MX+r3Mz+cOV7/MlnQIAgE0YThIgXcHTEzPqbqqrgEl+jG9L9Asf3Z188fdbOpc3pvu77lasf1YfBP6GDa5swE6nDz3+fvO48rLg3nHMnWHTsxnSkTs+u2wXMMwOt7BM/miSCSKqdmUyuWFbhqJ7yTTbq8Ot3MCuDnOdm8kfLnyf76mn04WONvH8BQBgJwQxghN1G+6MZPPwbtuNeP77qdYXubtp2TfAcbfiqz9Uos5KV8bxZJTbTvR3UNt2i1+jdSN2SouSIIZpZDQ19GAhr8+TYmMzNweAf67lxjb0fCs6GNPgV/buWzRvUJENFqwfprPrdV43LKSK5/yx5jztvBtpdc+36euX53oea6xNB9taiImR8vwFAGAnBDGCE1VW02P24zkPoh9jZuztZChDiRpkeojJfCi9oaok4gy15OHLfvODnlE/tK/66z7a2f/bXiIw6lqYGfay3wSh3wL3Jh0ZvTUVVIjyb2Z+mn1wLzdq08PVzD/SQ2TCEQ/vSea+1NelHQ3BKojv3/OaHk27XefF672dfHeLFrzv/GEmrk2dp+kh8X4lffXxSt3zbfb6Fbmeh1qzVjrYzmygJ1fOTr4KAADqI4gRoO549UbddEdvv8td9HVvpZK3Pl3RcxZqZRMa4jzoISP6Kwvnw5ew3pybr+CcSr9k3P9WAZnuOPkq13g77eGVTLec/FQ3juLt2HkI9NcrFo+vO9Zd4/XQntXxx0u6/em6PVeu5Ubt/XYfk22sf8Nezff5OlPp6k2dgA7smf23f+Up+drbosJ1zB2f63WOG83pdNB+vytMvut8XTznD/tNPavzMF8j+vUol9HvY3WfR76unyvX86ibDtxk72/vu/lhYwAAnIP/LZfL/6J/e6UnCOxJ+isJAeDc6aEXPftNMbkhJKbM1L1Afo71G2TW0w3teB4DinwgzhM6KErQAgAA3+iJAQD7Eo2xL/vKRzP8S6JvFArKTF70ELVG5tsAAAAAsghiAMC+6Hlp1P/m75+5CRhDDAQs5PVad5PvyffoZw+TkwIAAAAEMQBgj6JviZHVvAZ26clEf2NJUIEAO1Gs/naV4/gaXgAAAJwD5sQAAAAAAABBoCcGAAAAAAAIAkEMAAAAAAAQBIIYAAAAAAAgCAQxAAAAAABAEAhiAAAAAACAIBDEAAAAAAAAQSCIAQAAAAAAgkAQAwAAAAAABIEgBgAAAAAACAJBDAAAAAAAEASCGAAAAAAAIAgEMQAAAAAAQBAIYgAAAAAAgCAQxAAAAAAAAEEgiAEAAAAAAIJAEAMAAAAAAASBIAYAAAAAAAgCQQwAAAAAABAEghgAAAAAACAIBDEAAAAAAEAQCGIAAAAAAIAgEMQAAAAAAABBIIgBAAAAAACCQBADAAAAAAAEgSAGAAAAAAAIAkEMAAAAAAAQBIIY3s1kcHEh16+L6OcaFq9yrf72Il6uX2WLrQDQkvw0ULnyUHYoD/bi2I9vA1/3t265S7pywHMQAAA0hyDGMWk9yNdyKUu1TPvRZwCA5lDuHhfuBwAAqEAQA4B/+bepheVaGn+JnDSGxtKNPsIJOdT9JV0BAAAcFEEM4AwtXq+l0e7wqbepy+WPjDrqs85IfpLPvuShZVcFAAAAAFfnE8Qwb4b12187Vle/DR6oFpxtzKmfC+NuV+vFi16/aCGv1+n1ejKJfpOVX2/XN9H549vDm22chNngQtrDuXRGj8fxJjnJm6n8uC5Nl/TwKORLxzH1Zl/md7m8VJrRXfOva3ngyOF8dzuPHY/PuRxyuH6u6cDx/hou6cVVnXSVXi9Zyq7NntNVco1X901fj+SYC+eUv788BwEAwOGdXU+M9/tnufyxb4YnPdWY+32S5c9IOvOhvMSVM1PR68n36Cd6a7yUH/UHev1MBc6s15b3u9V6y+VUisN4dUWrLcOraWp7IsP2thVqvT1VSeyvtrdcPsnv/YbKPBA1IHqqddGfLuXrqLpCzE1+MPnRpGedR9VnmTSt0v29yFuS5uN8mWu41BlTr/J9W+UlUdfDbFP/waSXy5eO+de5PHDleL6ay3k0cXxO5ZDj9TMc0oHz/a1x/Vw47rf18JXszy72edMZveV6Hx0qXfEcBAAAYTuzIMZc5ldPqiLZkj9X+ueOjB7z76JVQ+9+KHNVMUo38nTF1LQLnlcVpNmLWq8zkreKxuDi9Vkmqko3Ha/21Xp4sxXIjy1qb4u/8q3+179NH3tXxl8PQg99lIsaEHOV5n+WkkqKx0M3RpIDa8nNncog899Ug6SYxlsPTypnzeX9c/tmiw7oJLvt3prG1/ff1fZc869reeCu3vlWnYf343Msh2qXf5XpwFUz6aWuxeu9DKV43Q+XrngOAgCAsDUbxJj0Ut089fKP/JP5ed3iul79Mf2ZCk/nTm7ytZ3Fp7zP1a8ui9Wg7q2qvc3fxdZ/Z/Ix0Zu4qagwLeRTb7B/q6pXaVEF8vtv/cp564/oPy28EQPKRG9UJ6qh8XPEc1FkGyO2wdT85Il9ye3WmP/GudI1/7qWB02pOo8Gjs+pHKpf/h0mHTRE5b374Vz6T/mG9WHTFc9BAAAQsmaDGJlunnr5V/7N/LxucV2vuYrt1R9fVcaF/Kq6WzGgY7v1b/2GMeqirCtwdnuMBUY586ZU/8Mhren5MvLp9PqIElZxvoF1Y+99aSL/utv/+dbhUg6d8/Vb9WZIdT6IHPa6uOI5CAAAjtHZzYnhKt0NO7b4qzuv1tWSS1XJKgZ0dg3EtOThK96GHn9sx5LzRgp53XGcRibSq6jk23Wzy7HMnaEbpHpCUj1sYnV8u80NUK2p/FvtMOdbV1U5dL7XzwwjmWeHT6wc7rrUwXMQAAAcI4IYea0bsUOwSypv+lVS0vXWVsry69lxv2k7dJd1pt9I2cp5WaUTWL21DLWSH3VH74ykMHy/Ua7517U8cOX7fH0fX5mycmgf5V+ZQ6WXSDyMZLqucX6odOWI5yAAADhiBDEKWvLwpKpBk16mG71+q9ebdGT0Fo9tjiacmzwnb7bNm7/3K+mrj9O6j3bW97avluNsUOjibyuNHbkrDG4GYvatpf3iiuMaJlItagQlY/GVeK6P6MemuOVf9/LAje/z9X18imM55L38c3K49KJ2tGEYycph0pUrnoMAAOB4EcQo0x2bryicD9vJuN328EqmuUkR7Uzt9s22WUd/Td3Xo1xGv0+Yr+abSr9kPHC+ghh/bscJqwpfyXr6+N7kPllXL+2hyOjneCdtxPHQQ0b0VyXOhy+yz2blrrrjVU8Sk+7b73IXfU1kmnM+cuWYf53LA0eu5+vK9/E5l0OO18+V6/31nV7c19PDSNQ/qs73QOnKGc9BAABwpP63XC7/i/7tlZ4gsCfT1FflAQAAAAAAbI+eGAAAAAAAIAgEMQAAAAAAQBAIYgAAAAAAgCAQxAAAAAAAAEEgiAEAAAAAAIJAEAMAAAAAAASBIAYAAAAAAAgCQQwAAAAAABAEghgAAAAAACAIBDEAAAAAAEAQCGIAAAAAAIAgEMQAAAAAAABBIIgBAAAAAACCQBADAAAAAAAEgSAGAAAAAAAIAkEMAAAAAAAQBIIYAAAAAAAgCAQxAAAAAABAEAhiAAAAAACAIBDEAAAAAAAAQSCIAQAAAAAAgkAQAwAAAAAABIEgBgAAAAAACAJBDAAAAAAAEASCGAAAAAAAIAgEMQAAAAAAQBAIYgAAAAAAgCAQxAAAAAAAAEEgiAEAAAAAAIJAEAMAAAAAAASBIMYRWbxey8XFQGbRz3szG6j9XsvrIvoZQG0Hy791LV7l+uLi6I/VXk91nIOjv6JwwPMNAAD4QhBjZzMZqIr2NTUkADhx51be83wDAADHhyAGgGaZN6H6zX+8BNBb4ZS1HuRruZTlcizd6KNj1Hr4UseojnN8zEcJAACAfSOIAZyh/XTtXsjr9YVc9L5l9KMbzfFyKx/Xr+q3AAAAAFDPWQUxTMPNNJ5sF9nkzXDpmOvcOmpJr5aM177oyUT9PB+2M+sWu99GDbpknU1jdHPrbnF8K67r5SRvz/MN3fz2GGscmtngQtrDuXRGj42+iV+83ovajfSnX/LQij40ujL+epDMR1Xp1MzjoNPaaj39+yQfpoIi6/J5IU8m20xtxyxlaXr7/FveFb96e7uVVyXHl8yFES1lgaRonbJjttcov90612Wz7D1YLfljseutKZdS12bd9ctsLyrnqs53dWwey/ta6a/auvPl+VaC5xsAAEE7v54Y86G0VcVMptFb4WlfZNIraTD15Hv0k7w9/hl11GqrClLS1Xk5FbUF1SBcrauXr0yrTVeM2jK8mia//xmJDNtlFa6J9NS6v0/RttSKHXV8mUqjw/EZruvl6QpeT1Vd+/p4013O9XmoSq35PDq+5ZP83pc0hnCEbOPB3tp8GvVtIZ/vc50x5LEqUlIjnb7fP8vlz4+oX5vft3+fbB5R+folvW4+n9sMV5Lu5yYfmu2Yfettq88yaXqH/KvKF90AzK5XY3su5ZVrvkyGkSxFb6ZU60bu1LWdv3/m8nR8P+/kJkk2da5LtVWZGi+2bN1JVTroPpq0VDzfmbyYCNyTCcA1V967pL8aeL4V18vj+QYAQPDOcjiJbsAlw6y7t6aS9v03rqaoht79UOaqIpOuqOlKnakPPtev0Cxen1XVrS/T1Nju1sObbYh9FGtbmeNTDY8ntd9VJdv1+LY8j6iCZyqt+bHoi7/yrf7Xv01/XvZWHccnamjMO2ZoR+PTDCw+Rbd55epPRdqok07nMr/SjcqW/LnSP6tz2RAhKctHpeleN1pWK8qNacX/JuvtlH8L5Yv/7fnNly15sAWOfKYvVHQ/+0+rbdY9j0PZnA7i+50739mHOrf8NXVT+7pUpL+6NqcXnm883wAACF+zQYxJL9UtUy//yD+Zn9ctruttM6a/L2X10vlvVOWJKuudy2K1pXtralvZym6l6A1m/zb1xkeLGmLff3OVreLxtS5TlVrX49vmPD5XFbx0xTDR+iP6kCvfdOG4RG8sJ52R/CzzQzuaVZb+Mmqm00wDI9MrIK8iH6XkG6q6IbR6Q7t7/tWS8sX79hTf+dI0fOfynrrwi8939Un6WOqex6FUp4PWw1PhfGcfE5W+HHoRFdS/LpvTX10V6YXnG883AABOQLNBDP2GKemWqZd/5d/Mz+sW1/Wam13/6s/a1lFNC/lVla1iQMd2609XputwPT7385jLcKgPaNPfdGVsujvbip49D8YMH7vZy1DdXcUhren5MvLptGy+AFeZxvYG/vKbb77zbxPlge982RXbDly9HS82VJsp1w4jf74zMTGMuxvVFK8rjOvC860MzzcAAEJxlsNJXGS6a0cWf3Vn07paol80FQM6uwViXI/P/TzsMAPTFXfjm6iWPHzFx67HS9sx3by5Ol7dcXyv9Hj0zZVyu252KX1rWaVl32qWvXku4y+/rbfQra3OZc2Gqe/820x54Dtfdh/1PCPpt975oTtNnUfzytJB5u29GUrSl6etuiyFcV14vkUfF/B8AwAgBAQx8uKJ7UreINvKb74Lu63ErX/jvGv36txbUNfjq30eVnccv4lyeQOl31zZid/KKpM4JvFbxn1Vyu3b7dJu3WlbptP6FmLaNpVzdOT5Hh6xj+EWHvKluS92iIUZSlJS7jV/HjVE8xlUW5MOzASfKm+8zOxQksLwiFjT5X3DeL7xfAMA4AQQxCiIJrabZGdM118515t0ZPSWn+QrqsRNntdWiuxbzaG0t2g52q+pTL8FdT2+uucR02+i4sZurqI3GxSGFthJ3Tpy56eliUbZt4zx28hdhom46I7jN5n5BsNMBsnXe26bTuuZDfSkptnJB13tkn/L+N5eM/nSTjA5f3+RF9XILBta4f08HLVu7tSZTeQj3q2e86UdDZmqsD4dRBNqqnSoh0Gsn9Cz2fK+eXXzG883nm8AABwfghhluuPkqxHj8b3t4ZVM10yKaN/u2Dfc8fqZypD5akPVoFMVrvj3ZevFlfNe6vft97viZIyux1fzPFZ0RS9ugKbe2qvtvcl9si27PZHRz34ni8Ru9JAR/VWE8+HLFhPj1qHfZOqgSTZvXFx8yG16xv+t0+km2XzU+9aTmm7Zld8x/zrzvT3HfKkbePHv7XwFquEZ/Vy2X1MezScyUY3+0qEVvs/Dldrvm0q/ybwF7V95iuYyKHJPB3aCT618csyYr/L+YGrmN55vVdsDAAD79r/lcvlf9G+v9ASBPZkWv8YMABqkG+u2MXO88zLAQdTDQrUit5qXpX460F9D3JPvLfcHAACA/aAnBgDg+Cx+zRCRfX1zjR06sO2EngAAANgXghgAgANbyOsgnidFm8lAj3npjCTzpShNmQ2kPZyr3T3SewcAAODIEcQAABxYSx4eRe6T+Qh6MtFf25meO6UByTwhvYn0p1t+nTAAAAD2ijkxAAAAAABAEOiJAQAAAAAAgkAQAwAAAAAABIEgBgAAAAAACAJBDAAAAAAAEASCGAAAAAAAIAgEMQAAAAAAQBAIYgAAAAAAgCAQxAAAAAAAAEEgiAEAAAAAAIJAEAMAAAAAAASBIAYAAAAAAAgCQQwAAAAAABAEghgAAAAAACAIBDEAAAAAAEAQCGIAAAAAAIAgEMQAAAAAAABBIIgBAAAAAACCQBADAAAAAAAEgSAGAAAAAAAIAkEMAAAAAAAQBIIYAAAAAAAgCAQxAAAAAABAEAhiAAAAAACAIBDEAAAAAAAAQSCIAQAAAAAAgkAQAwAAAAAABIEghjczGVxcyEVqGcyiXwHYn8WrXKfz4vWrLKJfAWsl6WagSvMdkP4AAAAaRRDDCx3A6MmkP5Xlcpks4270awD703qQrygPTvvRZ0fHBj2vX2neZp3AdQki/QEAAISLIIYPsw+ZSEdGj0QtgET+jXRqoZcSjk4SfBgLJTkAAMDxIojhweLvt/rvlfxp2Z+BY7d4vZadu8076k9XvZPihV5KAAAAALZxXkEM82b4WnRPZduIi98M28+yFvJ6nX57XLZOHQ7b83x8ZhtmPHZuvo51r8Fng9T21q3nel3yc4SsWw/7NhtcSHs4l87o8QjeOMfpJJ8+ip+vS887DT0o6S2ST/a18lHF9lb5uicT9fN82M6sWzyXfD4q6cXiUm5EebvsWtm/qZk/k32ujk8fV7L//DwQ3q+Lx/I0f2yb5rCoOI/68ve35n0AAAA4Q2fYE2Muw7ZqxP0+RW+Ff2TUUZ/dpyuuumLZluHVao6Ln5GYv0sqrKkGv24Qiqp699KV0UxF2GF7CU/HF5sPpa0aBhK/DdeDtCe9wnqmkt+bZN+a337k1nPdr14vP0fIk/xmzgH7Zxt+6jab+/z1cAxdh7oyVomoo9N9Kn3MBrox25HRz5dkDjOfnm0CLMlHLlQ6vRd5S9KoTs8dlT1KGpJO+ah6e62Hr+h3U9HTJXRGP8m6esncE9Ng7sl3ah27vS3Kje6j+lmt9f6Zy4MzedHlV/8pe50dvd8/y+WP3pe+HNH+9f1U1+slOUbP18WULx7LU+c5LGqkFyf6PCgnAQAA6jrP4SS60pj0Z2/JzZ2u3f8mFcfF67NqQPVlmurz3np4sxX1j6iW3B1nKrJqo6p9s6rcLr8e1JYtp+2l+Ti+FN1gTVbt3ppGwvffVDVZNZbuzZv5n2w3f3WO6Z+d97v4K3qATf82szEZp64J9i1q+M11YODIhnPoRqRuPcYN39nABFo6o7fShnUmPau/fVJ/OnnepuFXTJOthyeVwufy/lncWmU+qrm9zRbyej+UuSoL0g143dg38ZOy891YbsQ/v0vmUMx8Pvm86mou8ysd/GjJnyv987p5gXxel/rlX1V56s7veVBOAgAAbKfZIMakt+qZYJZ/5J/Mz+sW1/W2G9Ofr7Dbt4DxZG4L+XzXbyZvo59jUUX9+2/Nym/97fk9vr6UtU/mv6u1Fp/vqhrel6eNr2Jr7Lf1R/RH5W+MsXfRG/1JZyQ/y1zPhj3Q6SCbb0veXHfHtnGu17VdRdb0FCmm59blto3SOqrzkVeLT9HZrXNZvAbdWx3wyQUjlM3lhv652OCefZhokWw7J3Fmn507uWk8bfkuTw+IchIAAGArzQYx9BuwdO+E5b/yb+bndYvrek1URBfyq+rIxQCM7YZfv7F07NtTWzQbrFJnv10Zm27btoJu19u2yzV2NXsZqqar4pA29HwZ+fu769ddZoYomaU8kNId26EE69/o+5edK0Evdk6Gbfne3pXX2YK7YuMf8ZCSmZgYxt2NNB178Hdd/Jd/dfi9v5STAAAA2zjP4SQbtUS/2C0GYOKlbuDk2Lentmg2WKXuflvy8BX/TjdO7dh03jjuX3cc3wM9b8vmRpJdN7vsa+4MMw9Gpy/9whwwm5kgXOdSpbh6dINUz2eTDbLEgZT6fG9Pyw5Xsey3IW0n04vDDCWp6oG1O7/XxX/556qJ+0s5CQAAUB9BjIJth42sc+zbU1s0G5xI2XDylV32q9842sp+WaMM+xC/9T3ORpJuIPYmHRm9jWX8ZieGvHd6Jb0Q+w3Hf1QKrSMalrDDUIqsutuzjfG1w1FaN2Knbij+3gZtthy6YSb4VGngZWaHkhSGZfjm+bo0UP658Z1eylBOAgAAuCCIUaL7aBtRbU8tvWPfXvzNBYVZ9meDTGPXeb/q7/JDEOxkfB25a37QPNayb33juSd2HSbiTTSxbPINGa0HeVMJUn/NZnVS05OVZid5dBM1htNzS8Rzh0Q/1lN3e9H6k+c1PWPUvTIzlvYy92kV7Nl28sdoYku1XT38Ij9fhH++r0sD5Z8T3+lFoZwEAADYCkGMMuYr96bSLxl3vVXD79i3pyrotnFr39In2/u4zX6Lhet+u2N5k/vM79tDKX5dJg5CDxnR36gzH75sNTFuXavx/qslaX/qhqBKHHpi2ey3TehJKO3fZtuq2a8y7n3ryUqzQwh0Qz/5vW5h6gZv9HM6nXbHq54pZv32u9xFXxe6jbrbK6yfOz6dj/RXuepgTvz79vBKpjtOzhpfW1H/bTyGoXi/Lp7LP9/pxXV7+v5STgIAANT3v+Vy+V/0b6/0BIE9maa+2g4Atqcbh7YR39y8B+dBf91uT75HP3ub7wQAAADwhZ4YAHBG7JCF5if0BAAAAJpAEAMAzsVsYL5hozN6pDcLAAAAgkQQAwBOXDJPQ29iviKUYSQAAAAIFXNiAAAAAACAINATAwAAAAAABIEgBgAAAAAACAJBDAAAAAAAEASCGAAAAAAAIAgEMQAAAAAAQBAIYgAAAAAAgCAQxAAAAAAAAEEgiAEAAAAAAIJAEAMAAAAAAASBIAYAAAAAAAgCQQwAAAAAABAEghgAAAAAACAIBDEAAAAAAEAQCGIAAAAAAIAgEMQAAAAAAABBIIgBAAAAAACCQBADAAAAAAAEgSAGAAAAAAAIAkEMAAAAAAAQBIIYAAAAAAAgCAQxAAAAAABAEAhiAAAAAACAIBDEAAAAAAAAQSCIAQAAAAAAgkAQAwAAAAAABIEgBgAAAAAACAJBDAAIxkwGFxdy/bqIfg7A4lWu1TFfxMv1q+z16JP9D9TVAwAAQOgIYgQrwMYMcPLIlwWtB/laLmWplmk/+gxACuUGAAB1EMQA0KjF6/XqLbxZroW6OvYmCaKMpRt9dHrWN4Jt/ot6oeR7xRSWOG/a7RV6r5T2alnI67X6bLDffi6zQXzM2SV7GPF55Jay3kAbrs2eTw0AAFQgiAGcoUzDpjG2AdEeiox+7Jt4uzzJ7/2ehxQAyPSKWS5/ZNRRn3VG8pN89iUPLbuqNZHnVGBk8fku8+jfx6Ev0+TYl/KjTmjSKwZzOqOfZB1z3jKU9ppgan+62l68jE83+gUAQJDOK4hh3rTYikv27XBZZSZ6u7RhHbMN80Yn+7anvEto8Y1Q4e2Ow/GtPu+p6qXIfNhOrVe27/x+y84V50S/wWwP56pi/9jom+nZQKfRjox+8g2jroy/HiTz0Q75rfwNcPX2XPJbouQtbXq39fOlw/EZ+fXs9rdWcR5arevssD0ns4H52/U9CfLXx6Fcyx/bxrk4PJeTztflmMtnlXdHfZm/f0bXbSGf7yKj6Uj95lv+Hs1xrrQevsyQpfnwRV3ZdVry8KUDOHMZNh5M3ZzP65cbSpRXkmWrDAcAQNjOsCeGqri0VSPu9yl6y1JWmdEVy7YMr6bJm5ifkZi/K9QX5vqNTk8kfntjV8yuZyq0PflOvQ2K3xgV6x+bj09X0uznU9HDy7NvmJbylWkt6vNQlaP+6jx4C37ObIW6p2rL+m1jNq14ptL8s66V959yAYwyO+Q33WKZ9HLr1diea3lwL/IWbctuT+ffVYOkfr50OD5TbrTl/S69Lbv97VSfR8L1Ortur0r30fQKWDWYYzN5Gc5z6UhfP4dyzXkuDsftOXO9Lr7369Hir3zr/9/cSn/+Lp/6gBaf8i53ctNgseFPVZClJTd3JsHZc2uEvr+b83m9ckMXCddyoQrwTG+R24+Scg0AgNN2nsNJdKUx6R8aV2Z+k4rj4vVZVDVBpqk+pK2HN1PJnnwUawu6QrHa3IM86fr+c1wRVQ3H+6HM1T7TFZL4jdFqvZSK43MWVUT7t+n37WVvwXH6ogr1XPeM2EP36MWv6XaeTXvldspvXdXIUv/7TrVY6m6vOr8V80zr4UntYS7vW7SAXI9v9qLKjc5I3qqjQI7qnUfVdfZ7XdY0Kmcf5g11Jh35Lte8l5OO1yWI8rkrj6rhrY9bp8erp2M6tjIL+asvaqc62NL6c6X+O5ffuknVUe1yqMriVe5ND7qfbPndHTdfngMAcGSaDWJMetlujxf/yD+Zn9ctruttN6Y/37Cyb0PiSd90l1n95u82+jnWElPn+f6bCyb0Jbc5aV2mGkH67ZXaXOeyWKPq3qpmQcmboM3HV0Prj+hDLu/xgbMR9QSamLHv+aEdzViYlkSaDqKU5d3d85s2T1oidbfnMb85cT2+mXyo1nvn7uZAjcaq6+xfWUN/Zi7CSB7Tx+K7XDtUOdnAfvPDEfSih47tonVzJ/J+L8+TdJporvG/i8XrvdiOO+7Blmxgzt6P7DXcomfRFuVQFTsfSV+e9lGAAwBw5JoNYmS6yerlX/k38/O6xXW9JhoaC/nVdb5CAMZ2w9+qR4Ry9ecQFY+ujKPJ21YVs20qZAiZeaOv/+GQdstm/C+f42Uz+5YzTadFm2+zXft957dm8u9q7Hq89EwPgfqaOT5X/s7D8ru9rti4bjykZF0gx3e55r+cdLsu/vebH46gFz2UpTbTk+pKzGOrdSN36qd5oUF+DCbSS13n9vDKTPRZp2dC/tmcGaphlm0Cv/7z+cJsEAAAaOc5nGSjluiOFMUATLxUB05MZaNzmal459/2aMW31U3Qk5jFx67H3do5AOiZcT664/je6wr/5kaSXTe7bDV3RutSdDYqS/dZu+e3LN/bU/lUNUj12+xs42bbuSn8H58rv+fhf3tapneaGUqy7s2z73LN3/bqXZcQyufoGOPIQMv2IDkO/cy3k9TJP/b525GSTpIe+M/npocnAAAwCGIUbN/d04rG5F79UVtS9FssVfco64Ztgx3bTpRmK0n1unfrN3+2Ml3duMRpid/67qmRFKf7jd8SoO2a3/J8by/qFp4f0rBWVb50Pb7y7dhx9tuoex5VfG8vYib4VGn0ZWaHkji9/fddru2yvV2uS1jl8/bHGA8ta/ornjcpmzDWp7rlUPXz3PZum4jzdBpmGOGhrzMAAM0giFGi+ziSjp6df4uW3mygJ09MT+bVkgcz02cv0y1fv63rTToyett2orSokjR5Xv9mfTYoDAWwjaCO3IUxxTy8sm9U7RdNbDdMxJ3a15v+Kkbd+2NzJXqX/FbG7/aifJaeuyaeYyT6Mas6X7odXzTRZWo75g3/+5X01cf11T2PKr63F4vPu2e63efnKzF8l2tet1fjuhxx+dxoL8FoslZ1k+V5XSZpVPStMLoXR4MzYtYrh6rLDbXBaOhRrjedSkdlu7BzaGg1Ah8AAASCIEYZ89V8U+mXjGctNvyyY3J733ryxFxX0e7YfEVhetI1O3Z3t0kWu+PVm/V4u5njU/t9k/vkd3a/IqOf/UzuiOOkh4zocfLVvSR2ZPKRTqO5PKJbMOk37LXymwPP2yvks/a73P3YuQzKVOZLx+Oz32C02o75GtivR7mMfl9X3fOo4ro9HXyJz8/OB6AadtHPZffDTvCplU8uqnbsVK4579dzOel8nU+tfC5JzxdlreuoMa7V60m4veyEp/HXnTc3dMuoWQ5VlhsSB6Gz61x83JbOAaInZLWXeU0+AgAgYP9bLpf/Rf/2Sk8Q2JNp6qsLT48d+6yDEQ1XhgDgbNg35bqhudV8LDh69tlp5w054SoCAABoCD0xAABHww6p4KskT1c0H4Xv+VQAAMDZIIgBADgOs4F5Q98ZPdK77eQs5PVaD4GIhnN8bTsfFAAAOHcEMQAAB5XMX9GbmCEGDCM5RdFXtS65vwAAYDfMiQEAAAAAAIJATwwAAAAAABAEghgAAAAAACAIBDEAAAAAAEAQCGIAAAAAAIAgEMQAAAAAAABBIIgBAAAAAACCQBADAAAAAAAEgSAGAAAAAAAIAkEMAAAAAAAQBIIYAAAAAAAgCAQxAAAAAABAEAhiAAAAAACAIBDEAAAAAAAAQSCIAQAAAAAAgkAQAwAAAAAABIEgBgAAAAAACAJBDAAAAAAAEASCGAAAAAAAIAgEMQAAAAAAQBAIYgAAAAAAgCAQxAAAAAAAAEEgiAEAAAAAAIJAEAMAAAAAAASBIAYAAAAAAAgCQQwAAAAAABAEghgAAAAAACAIBDGO0eJVri8u5OJiILPoIwANIb/t0UwG5lqvlkH+olfdj+T30XL9KovoV/vjcB5nzV6f69f935m9odw4Lp7ux+L1mnuKlZPK5zy3Yt7zed16SUW6ohxyQxADB3aoyq7v/Z5BpR0n4JDpVO+7J5P+VJbLZbKMu9GvXbUe5Cv622k/+myvPJ0HcHKO/TnIcxrniudWow5eLzlPBDGOUZIZxkL5glDZSHIqMm2Wazm6+iP5bT9mHzKRjoweK67ysd8P1/PAaaPcOC7cDzThVNIVz63jQnnlBUEM4Aztr6taX6amoLbLtD+XYfsIAxlo3OLvt/rvlfxp2Z9DdSrnAQA4Dzy3cIrOK4hhxiDZBlT2LXFZo2ohr9cub5Dz69kl3V2xvMFouzVepAekuY6p8nkeybai41GLPqRku4VjqL4u5m/N3622aZbUua6OuycT9fN82F6tp5Zid8/ctkrPtZr7fuP95feT/bz+eRzebHAh7eFcOqPHvUeAu48j6chc3j/z14X8ZtY/sfxWi+v9qMU1XfmWv37r5v6wx1OdrmqYDVLbUkthx1r18bmkq5X8dbbprCB/j9VSujlnfvJHfFxl5bW9N6ntuqbTWvfX0/1I9rlaR/862X/hWA9Vvmymn1Frr2t0HMk2He7HdseXvTZ1zyG27voVtren9OJyrqX7rHV8FaJ7VnYsdtv5bfo+vvz1W7e91Dpr06O2/f1wK5/LzqEJ1edR7zq7cri/Wv6eqKX08mlOz0HNTz53VitdablrU0xY7vfD5fq5bC+6tu75t0HL5fK/JpZpX/6T/rT0dwdbfkb/dUQdl16SY/v5b9RRP3dG//0k607/62fWWf73M+qYv+tP43XUEm2vM/pZfRb9bfoz+7f9/6bJOqv11l0jc/0yx5RafJ6H2Vbnv06n89/oJ9pG/DfRflbn7HZd4s8yn0/7hfXsUrxexaXsWqnP1l0fp8Vhv/F1Tu3H3Bd1vUY/uXWdzuPQy+r+Fu+D/6U03W/IM1XpatPfpj8r3W/JPtIL+S29lF0r9dk2+S06jrXLmm1uvB+pZfN6btfPaalzHiXptHS/zunKfSndjzr2sv1WHZ9zuirZXnk6K6Yhu4+y8tRlcbu/buex7rpvvh9eyg2f98Ns69jLl+rF7jNfhsfL+n1UlxvVx1fvfKuX0u0V7sXqM7NuU+mlbL+O6cD5+JyWdX9X9rnv4ytuz3y24Rxc8rmX/GuW+se3dom2v3ZJb9PxPPymA7043t+Sa2DXKz4/Sv9eXYv0z+73o/7io/5Senwl96hWune5fk7bW3e/y9Jus8t5DifRE9sks9m05OZO3bL5bxINW7w+y0R3g0/NeNN6eBN102TysQpbzV6GMu+M5O3hQP2zPJ2H+iOZXz3JQ6slf670z+Xj5ty3Z6mMt5o0qHur/lLk++8W4bnFX9Ed4fq36WPqyvjrQZ11g/SYNVXKyHwoL/r0ZgPpTdTVGb2pa2VXCYeOsLdlOFf39udQkzkt5PVe5RmVEp5SF5D8dsL5rTtOhhKpB6b6QJ1PanjRssE8XPf6beR8HlEaV2nlK5VOWw9fZrKvyXPJW5eKdOVs8Sr3pofVTzZ/q2Nf/Vz/+KrSlXu+LKah1sOT2l5Zz6xqfvNHSx6e1Cfzd8kcyuJT3ufqb592SKcb76//+3H05YuDljnwb4k3b3pmxK8Mo/LpquF+8b7PN7M9VbfQya1+ebBjeinZb+1ycuPxuXLPb96Pz2t9soH8e5Dn7+GeW+731/H54fQcXNlnubaNsvw7f//c4n7UfP5u3F78cy7/mnlX1J9m0m6zmg1iTHqprih6+Uf+yfy8bnFdb7sx/fkLrDPqanKVhXyaUvQ2+jkWVQi+/0Y3cSYfukF7d5NJFPvk5zyszLY6d3JTOKl621MrSlk6nv9m13LS+iN6F5Pehq5jTVEFnynE1b4vdAQjV8gHwXQP68lENTR+ll97DsBMpJfk17YMr1TBmJnIiPxGfmtC3evnSVQJ71wWU2n31tQ+sg99ZXO6crf4fFfVkWyAsKD28VWlq0Plywbyh6nAZit08TUt+1tXG++v9/thHXX54qJ1KaqKHLFpTLVoUvW9jpRcMo98n29xe63LfCPDajq9ZPdbv5z0VV655bcGjs/n862J/HuI5+/Bnlv+n9NOz8GE73zum6dyYwtV2ysLgMxMZWAk+5w7ttkgho7kpKN+y3/l38zP6xbX9ba/Qest5FflKVWCpIIldtFt2LLEc5x8n8chr0tXxssfG5nVwQSz3/2NueqOpyqzamHO7GzelOp/ONwj88Yrd393GyO4ivzrYJBMnnP3jfxW7nzzmx+HTVdNvyUuszAn7OYQx6dlx9jqZc3cGZWauL9dsfX1+C3Xugq2f/u/H0de7rZ0Q24upi2h3+71R6o8moh5Mbv4Vb857wkK/aWXwz5nqvNbM/nc9/PNb/493PP32Mshl+dHnefgufH3/NXy+fcwLzT4dpKCluhAVzEAEy9NBE6a4Ps8Dn1dWvLwFe9LBxX0t1zsJ1I9G+heDH3pd9Q+70u61R257ji+ZrpXxOaHoV03u/jqeWKDQflrSH4rd775zY/DXr+y7qh2dvjmmDc0jg5xfLoCpScU1t1jV/chDhDX1cz9NRMPx28dzdvJ/QSu938/jr3ctcenr4u+Dp3LG9N9WXcvN9elc6nWCJtpbG15Hrukl+x+D5sOqvNbU8fn9/nmP/8e5vl7zOWQ6/OjznPwnPh9/lqZXjpmKIlrDxh/CGIUuHZjspkv3+3Iju9yEI17a8723bHK+d5erPw6bqYj1TbzlRW66iZEM/BuGm7ktl+d8XsT9WB9G8v4TT9wh3JfGgXY5jz2KY7uH7IxaiO32a6J5LdyAeW3o9TU9avQuhE7dLS4V9t4KOva74edRyB6W72O9+NzzZfRW1ZvXU0bur/m+tgusqZbcoP3yzhYejmm8qWMPb7576dKNyJ36iK0bu6kEx/v1R+1xjaO5Tm9ENM2rHseO6eX/H4PVE7GKvPbPo5vh+fbXvLvHp6/R18OuT8/nJ6Dwdq2d6Dv52+k+2jbFC8zO5RkD70W8whilLDR4aG0N7b0oolNUt3j40hXnnn4pjOVbmS3oy7+DXI7D3e+t2dFhVhhmEHKbFAY0mAryR1TucmzY+K0TQWZw36jCYKkrydJUz+3HuRt1DFfz1a8BA7bOzgb3Y/n+Gj8q6RKmDSk3yqYmVIt8lu5UPLbsWrm+lVReczMnNfLXMNVMHSbyeMcmQqF3nWut5W6n6tL4Pv41uTL9yvpq49XonSXDmDGc/VEP9bVVP7Q5zN/f5EXVelrvmvs4dLLwcoXR+aN6mQoQ4kaUK0/cqWOt1dS5rs7juf0bKAn2c5OZuhmt/RStt/DlJOx6vzm/fi8Pt8ayL8Hef4eezlU4/nh9BwM0+L13k7OXzsS4f/5a8XP/55KJzqGse8QBkGMcvpbKXTkU92Y7PihbMNPT3Qy7ds32/p37fc7+YkiphlR4zcZ39b+ladozFuaLjDi/djxYCpjRz/nCzUnjufhzPf2It3xqodA6fa6Y3mT+8z+VJtURj/lk1TaRqxWPmlPbON+k4ZvftZkPZmNzrPF3gyV53Ek9JARPVP1fPiyoadKQ1Qa0s/KTCWS/FYukPzmi+v9cL5vDV2/SnpG+GlfHVY72V97eCXTxifVVRVRE6TM3tuLj9vCLO0+j6+QL3+fZPn1KJfR72OFdNd+l7ufYr501tD9Nc+P+UQmqrFX1jXWe7lxqPRyqPKlrqTXQNSTT0lPQFj3fhzmOZ2e4Fod57eeZHvLoRC10ovDfg9VTkaq8pv343N8vjmnK9/51/H4vDvycsj9+eH4HPTMd/0lfhmXzr+2zrvd/fD+/I3EbaKq9lZT/rdcLvX3wXqnJwjsyTT1FS3nQn+VZU++Rz/hfYsFEBzyGwDgOOlGi20MNju/RN6h9gvgnBy2Dk5PDAAAAAAA4MQOddr/hJ4xghgAAAAAAKDabCB6XrrO6PFgvb0IYgAAAAAAgLWSeT16E/OVrYccys2cGAAAAAAAIAj0xAAAAAAAAEEgiAEAAAAAAIJAEAMAAAAAAASBIAYAAAAAAAgCQQwAAAAAABAEghgAAAAAACAIBDEAAAAAAEAQCGIAAAAAAIAgEMQAAAAAAABBIIgBAAAAAACCQBADAAAAAAAEgSAGAAAAAAAIAkEMAAAAAAAQBIIYAAAAAAAgCAQxAAAAAABAEAhiAAAAAACAIBDEAAAAAAAAQSCIAQAAAAAAgkAQAwAAAAAABIEgBgAAAAAACAJBDAAAAAAAEASCGAAAAAAAIAgEMQAAAAAAQBAIYgAAAAAAgCAQxAAAAAAAAEEgiAEAAAAAAIJAEAMATs5MBhcXcv26iH5umt3fRWoZzKJfYbPFq1ybazZQV/F4LF6v6x3TkZ5H0+x1UudNggcAYG8IYgAAdqADGD2Z9KeyXC6TZdyNfo0jtO8gF/zgvgEAoBHEANCc5O3sauGF5YmZfchEOjJ6JGqxldaDfJnAz1iCvoKnch41tR6+bOCOqB0AAHtDEAM4Q7W7im9jNpCL9lBk9JO8ndfL7ce18CLxdCz+fqv/Xsmflv0ZAAAAaNIZBjHyY7dLGlTm7bH9PBnvum5dTTfW0tvkVTOO2GxwIe3hXDqjxwbfmC7k9Xkiaify9pBt3XbHX5L7SKmeU6E88BL9XXrlRvKvOp/r1DrrtlWH036rr4uVP76eqKtfooHzcOJwHnXvWwXn9GLkj2/dPj1ev3wvpetXtfUicx7md7ljLE8IG62uq00f82F7tT21lA9TyJ5zYR3H87Bcr3O1ddel/Phc01X++NaVQ9l19OJy7Tae74byYLv7BgDA6TqzIIauoOTHbj/J731ZpWsuw7Zq7P0+Rev9yKijPsutayoXvYn0p6s3zcvbD7rM4wjZCrVKria9fhUjCf7Nf0vyVo5pZPTkO9Vj42fUkUlvl6EnPvOvLjfaMrxalRs/IzHb3/b4nPbrel3Mem15v0v3eJlKP/r1isfzSDW4dEBMVNOql2pUZRqyte6v233zy/W54DkdJMMvljIt3qys+VDa6hglTi/6Dya92vtNhj5E6aOT6yVVLBP0fW3L79Nqv7oBndmv83nUef46yl8Xe0O2S1eO6XR1DeOlLK9p7umlqjyof98AADht5xXEWPwV3fG5f5t+/9yV8deDlFYBdGUrGefakpu7jqoLpRplqtJzb95o/2QnseuOmdQORyaqUM87MvrZx6SLLXl40tXtqHFbbFVEFvJ6P5S5ymvpiriutJt22vMODRxP+Xfx+qzOoi/T1IethzfVCFLH97HuvDZw2q/7dZm9qPVKerzkeT0PdaxxA0o39NTFVu3IVaNqmZSpW9zfqvvmm+NzwXs6qEk3cJNdd29NY/b7b2NXJeFtv3Wfv44yx9d6EF3s1E9X/ssh5/RCPQIAgNqaDWJMeqs3c2b5R/7J/LxucV2v5pj+1h+5Uv9zfcObrWzZCk160rLF57vMVSXlqaLxABxU9IZxohq6P8uyoRwNMQ1d/cZT/TspC3LdqRef8j4X6VwWD6p7q1oP83f53KK9pPnJvwv51AfYv03+zmrJH12YfP+t37hx2a/zdZnJhx61c3dT0RD0fx5Otri/VffNO6fnwoGuX6IvuctizH+b3avX/dZ8/ropHl/rsjzotTFdeS+H3NML9QgAAOprNoih33yk384t/5V/Mz+vW1zXq1ux7co4alTpilRpo6qGxa+qpABHzryp1/9weJut58vIBgp3HW/dkoevKL/+jKSjjkR3p85v8+oAs0K65d+FmNUKAVk7LMflmubVKTf8XRf/51HHIe6vO5fnwmGv32nw+/xtwiHyG/UIAADqO8OJPVONKjO+1DaqtnkzZN74AEeuO47Tuh7asbnRYNfNLt7GW5ux87YRM3//zDT6yrqn22+9aI5b/m2JWa0QkI2X+j0E6pQb/q6L//Oo4xD3t56q58Jhr9/p8Pf8XccEBTqXak/1HSK/UY8AAKC+MwxipOk3Q3airG3G+LZMv9CJ7GE4NLCj+C2o/0bDTlo3YoemlzQeTGPkTm42tUaicfbbcMu//ocLOO3X+brYxlJ+PTseP21fwx5ydr2/vjmll7LnwoGuX2PK081+7fb8LbcQ+42/f9QZ1uA9nbqnl3r1iBr3zQwj1L0/Gv4qbQAADuC8ghizQaEbu63sd+Rum5p09zHqGpt7u632czSNRCBh34Kaiep6TX8t30wGJV+1uHi9F/1lFqs5HNQxmZn4epnj0bP19yYdGb2tJv1r3dypnJqq7OtKejsaKrMNx/zbfRxJR38Lgq9M7bRf1+sSTVA4eU62pddpv19JX32c5v08nLjfX9+c04vjc+Ew168pUSM7lW4a5/v5W2I20JMXZyfTdOM/nTqnl1r1CPf7Zufa0FwDJAAAhOO8ghjdsbzJfWZ8qqrTyuhn28kO40ahfbudbPfjllnFcbT0kBH9jRLz4UuDb+i6Mn4TuU/ltVV+yw1R0ROATu1XN67Wu5JpfhLS1oO8qeNOxtO3f+UpGp6yHcf8a4bBTKVfMr493yhz47hfx+tiv0FhtS3zNZJfj3IZ/T7h/Twcud5f31zTi+tzwfP10w3k+O/tPAn660K3315d3fGqZ9ZezsP781fLfrVv71tPXrzl0B7f6dQ5vdSrR7jeNxvE08onZwUAIGT/Wy6X/0X/9kpPENiTaeorzQAAAHZnehyZIMOB5yOJevjI6Mff/EEAAGCjM58TAwAAYEuLXzNs47i/gQcAgNNCEAMAAKDSQl4H6bl+ZjLQY2g6I3mk0ykAAHtDEAMAAKBSSx4e03P99GSiv0b1q7kJagEAQBFzYgAAAAAAgCA0FsQ4FQRjAAAAAAA4DgwnAQAAAAAAQSCIAQAAAAAAgtBYEEMPw7i4Ts/iDQAAAAAAsD16YgAAAAAAgCAQxAAAAAAAAEEgiAEAAAAAAIJAEAMAAAAAAASBIAYAAAAAAAgCQQwAAAAAABAEghgAAAAAACAIBDEAAAAAAEAQCGIAAAAAAIAgEMQAAAAAAABBIIgBAAAAAACCQBADAAAAAAAEgSAGAAAAAAAIAkEMAAAAAAAQBIIYAAAAAAAgCAQxAAAAAABAEAhiAAAAAACAIDQWxOiOl7L8epBW9DMAAAAAAMAu6IkBAAAAAACCQBADAAAAAAAEgSAGAAAAAAAIQmNBjNngQi6uX2UR/QwAAAAAALALemKgOYtXub64kIuLgcyijxqV7C9aqoJo+z4+HNBMBupeX79uEVatm658O4p0usP124vDHJ8O1h/vNXFhr1uSttUyyCeyqvR3wPyxeL0+n5clrtf5QPfD3IuDP0sd0vOxO4ryHseRnrG1o8hHx15vCh9BDJyO1oN8LZeyVMu0H30G7Ip0hRI6gNGbdOTuJtTv4NIVrJ5M+lOTtuNl3I1+7eqA+aN1cyed+VDawbVUt+B6nRu5HyFUxj2l50bQmNkPrnOYuG/YDkGM4NjMXogulkYdF/J6rT7zVMEzQ4TMPrLL2s0nlamxHEU9Iu/Yj+8s1EnPZ4p0enxmA+lNRPrTL3kINobxIRPpyOixIlUdc/rTx6Zb6pNeeG/c4Zdrej52lPfA7shHZ4EgRrAm8pyKWi4+32Ue/btZfZmagsEuP6OOqj8SQT1V++tSeaj0DNQ1k4GNYBzJW97tLP5+q/9eyZ9QgzCx7tj0OJj0CHies5NJzwAAJwQxgtSR0agv8/fPaKzrQlSbT0bTkfrNt/zdYzyh9fBlKpDz4cuqAuk4Jnc1njl+G2+X8oBI1KskWe9ato6b7Hh85T1bPB7fkdA9b9rDuXRGjw1Hsuuk59y9UEv5G9j8/eiJanZmlAdoou1v+1o3n7bUUtiUWcemD3sM8bq5NFMnnabXS5ayNOiaTquvX22zQWp7aim9xv7ur+U/Xy5en9W++jLdMYLhVP5F16ysTLT3fffzWcsx/dXjej/y6WDzeXYfdVmRDYQGxaXcOIBV2WLz13zYzhyjy7O68ee5I3su1eX9uny59pmwoVyrdf1q5bfqcrLeedTLb2slz7bV9vTukuuQOifX+2FtPr5a17m2XFotvX7+0vO6+1Z6Di7lRnJPom0n65YcY9X2atxfo2J7te6b63nk97kmH2W3kV5Krovz/c2vt65eAl8IYoRm8Vc165SbW+nP3+VTZ6TFp7zLnRx2aHaqsZl043IYk6vHM6uMLtOod8fPSEQVZNmCWBeYbRlerca62tVKCmwXuxxfaddlz8d3cLYgti+bl/LVZH/5OunZPJx68j36SV1n2xMoc53Nem15v1utt1xOVbOzaSod3Iu8JfuMj6/sgTc36aP9+xSt+yOjjvrsPvXAdUynOpAY72+1LZHO6C031MExnTZw/UyFQSUonZ6Sbd5+lOzX5/1tIl/qANtcZYxbP4G9qvKv+2ju5SrAF5vJy1Afx1O94SypBpcOUOoeUL2kwqWWdIWvTjnpxPV+6PVU5S8zt8GT/KbzRp461id1jMXrFII65cZ+rcoWm786qbypl+KzQaentvw+ReuohKMbJsX76ylf1knPdTg996vLtVrXzzW/uZaTmnP9pWZ+q/B+/yyXP/Y5pI/LPOfUTdbz17zUvccOx1c/nbrKpWd9Dur6ZQMKHtNzrOq5YNQpNxzqGzW253Z/q7dX/76dV70J1QhiBKsrjyojvatW3+xlKFdPD7JtMb2bhZhenJ3tgyi6ApC81Iwqo5PnVaFU9uaz9fBmC9CPbZ8S7jLH11WNbfW/71T3gEMfn19RgT3vyOhnn5OiVaXnhbzeD2WuKjLpB5t+EJl6WSq96L+fd0bytnXFZVtdGX9lj7v18KRSxtycV4GulK0SvtzcqQQz/109jLe0eL2XoRTP3zWder9+6uF+b3r0/GTTU3ec+tn//W0kX+oAm2ordS49XRtlc/kXp4sowBcz4//V396mL6gDdc1XFTG1XX19kgqXWnLp1yfn+xEFNrPnVsxbea3LkusUhJrlxpHb6/OywfRcdR5u5Zpv7uVkrPo8tstv681lfqWDqy35c6V/3nGeEu/HV09Z+ZwOljZV/9v8XNB81zdct+d6fxsq186l3gQnBDFcTHqryL5Z/pF/Mj+vW1zX224sr56ZXd7v5XnSl1X5PpffXXNzDSbjmxeC2z5Q0sdu2cpoXCite/MZFaDff3cuvDYrHp82Ty7yoY/Po+gNz0QVxD/L/U9YuDE9b2g8dm9NrSJqvMzkQ7XuOnc3W6bH/ck3QO2bgR0noYoq1sX86JpO/V8/O79JX542JSjv97ehfLn4VecicuVt4H1V+afTRbHiNzMXYSThzGFY4360/oj+qPTN8gYts6H9Pv+QdyrPy6rz0EWWQ7nmm3M5Gas+j23z2yaZZ9sOL7iMBo7PXVX53FR6rn4u1OWzvuH1/tZ0LvUmuCGI4UJH/tLR/eW/8m/m53WL63o1MqCpREeTV7Vu5E79NC9ksCZlu2u2h1fmzUcqSOnZQn5VGVIMJNnhDrsU6n4c+/G5M5Fk/Q+HYy77ppqtxp3WTM/+Go/NKI6z3OeYyNVbumJ+PFw6XZgdu/F3f5s834547IjhoCu2fRK//QuxwlTnfnRlHHXt1Q0Xu57D0IrWpbozu3Et17yVf5HDlhv7dDrPyzrlmm9+n4Nb5re9OebjO2x69l1uHPv2mnGc9Sa4IYgRtJY8fC1XXataNmLdrFx3zQa+vshUDjqXUQW9JToAXQwkNbf/eo79+Nx1x/p49Rg+HajaXEmw62aX7cedxqrTc6YbbMTOSn94+oGtx2XrbqCr67K/MZG2V1S22+PK4dKpeYPkyN/9bfJ8m33bny3/rMxbVjOUZM9vgHdW935EZYH5nc5Ddiz0xjexJiC6W4DJtVzzWf4dutzYr9N5XtYp13zz/xzcIr/t1bEe3/7Sc/654LvcOPbtNeVY601wQxDjBJU94MIRzbFx9ScqrI+tm2nesR9fXfFbj+OpxJj0rHtpqIdJphtsxD7c4y6N9qGTX8+Oa3QQTzRaW9Tt8FBd/OPukNN1D1XXdLrj9Sthu/lPZOPwYO/3t6F8Gb3tdypjzfAs/damznDBfPkXMRN8qjz5MrNDSfba+86HXe6HLpNs5XfTdT+WYGY9By43nJXnu/qO7Hm5dXmvzsSlXEt4un7O5eQu3PJbI5zux6bj85VO18kPL9hXes4/F3yXG4feXtP3bY0jrjfBDUGMwIRZUXM3G+hJJbNRUfP1eXq25uN5LZBx7MdXn33rYScy362bdBX39KyOycxslZ0ZXEf7e5OOjN7isYzRRE+T56QniXkj8H4lffVxmp6Do5OuhOpGZzsaUlNb9LBLj0k2jdh9dJ/c1B1yxS2dul8/Z9E3bBRmOZ8NUkEy//e3kXy5oRGRZ8fMa64NnfLyz4rPu2e6sebHBYfA+X6odJEvc2xlsCN3G1po/hpx+3TIcqOO6DhT+W5bh3pe+i3vFadyLebr+rmWkzVsmd925Xw/ah2fv3Raxr61z05kuY/0XHwu+C43Dr29Zu9buSOvN8EJQYxzoB54+fFca7/z3AOdeeP92HFjqgCIfs4/jNTBZebY6H3rSSVzUVHzlUlT6ZecR/5BHn++ab/1js+B4/GFRneZ1jO+z4cvNd4kN0jPRD/tq+NZfZe4nZMlOwmpnand9iQx6+iv4/p6lMvo9wl1397U+SXjbNu/8hSNvU1zTS/d8aoHi93eu9xFX0O2Dff0bCfXLcvnmfTnmE6dr5+zOCiWujZ6+bjNVh4auL/+82WxsrKOraRr5ZPrWQ7lX8RO8Klt2p4/3stT1/uh0sGb3Gd+r9o2MvrZMNmwqiA/q32HOLGaa7nh/X7UVDjObbd3qOelY3nvzrFci1RdP+f75lhOOtsmv/ngej9qHp+vdBoHWTJzwL3fFSc9byQ9Vz8XfNc3Dr09X/fNvZw89noTXPxvuVz+F/3bKz3xlcl4e/oapKaY85Bp6it94IsubOzDd11XLgA4NvpriHsy0eNkd3gu1C//7H6/Rz8e5p85LeY5PenzLAEQNOrFgDt6YgAA4Kwrj/p10qS31zljbBfq0Cb03IPZwLxxWz+uGQAAnBqCGAAA1GC7juo4xp6+6k811PVM753RIw31ND3O2kYwNo5rBgAAp4UgxlnT3ZOzY7xKl+vXipl5AeC8xGN435OZy/xLxveqhrr+qjqGkWSZyVN3HNYDAADC09icGKeCOTEAAAAAADgOBDEABwSzAAAAAODwGE4CAAAAAACCQBADAAAAAAAEobEghu5+fwoTQp7KeQAAAAAAEDp6YgAAAAAAgCAQxAAAAAAAAEEgiAEAAAAAAIJAEAMAAAAAAASBIAYAAAAAAAgCQQwAAAAAABAEghgAAAAAACAIBDEAAAAAAEAQCGIAAAAAAIAgEMQAAAAAAABBIIgBAAAAAACCQBADAAAAAAAEgSAGAAAAAAAIAkEMAAAAAAAQBIIYAAAAAAAgCAQxAAAAAABAEAhiAAAAAACAIPxvuVz+F/0bwBqzwYX0ZCrLcTf6BAAAAACwb/TEAAAAAAAAQSCIAQAAAAAAgkAQAwAAAAAABKGxIIaeQ+Di+lUW0c+hOpXzAAAAAAAgdPTEAAAAAAAAQSCIAQAAAAAAgkAQAwAAAAAABIEgBgAAAAAACAJBDAAAAAAAEASCGAAAAAAAIAgEMQAAAAAAQBAIYgAAAAAAgCAQxAAAAAAAAEEgiAEAAAAAAIJAEAMAAAAAAASBIAYAAAAAAAgCQQwAAAAAABAEghgAAAAAACAIBDEAAAAAAEAQCGIAAAAAAIAgEMQAAAAAAABB+N9yufwv+jeANWaDC+nJVJbjbvQJAAAAAGDf6IkBAAAAAACCQBADAAAAAAAEgSAGAAAAAAAIQmNBDD2HwMX1qyyin0N1KucBAAAAAEDo6IkB4DQtXuX64kIuLgYyiz4CAIRqJgNVpl+/8loJLkgvwCkjiAEAAAAYNH6hkQ6AY0YQA8Bpaj3I13Ipy+VY+GJcAN4kvbxWy4DuXgAA7A1BDAAAELzF63Xzw8dmA7loD0VGP7I0QVK73H5cCy9sAQDYD4IYQKBMhd1MOmu7PMZvBAtdH81bQ1vBtpX8eN2ySnd2W3pZ+4ZRV+bT65auuJDX69Q6pfvU8vvdYb38W9I1E/Ouu36l51Hy5tUu645zPaf7Fl3bsm6s9h7W3y9wyvQk3O3hXDqjxwZ7Xqny7Hkiaify9tCKPrO64y/JfaRUl6c2P+cDL9HfpVeuVY4rXsvnGpz2W31drPzx9URd/RJ+zmN1Xe1+5sN2aptl5bHreVRzei5o5/Y8r8UxvZQ8z9OnWzsdVGwPQDMIYgAhmw+lrR60Mo3eCP6MRNQDt/gAnauPVSX/9yl6c/gjo4767D7VwDcP4p58p94w/ow6MukVH8jmId+bSD/er15uP3Lr6QpKW4ZX09T29OHlt6fXU5WF/mq95fJJftPHZjiulwwjWcq0H322Tv766T+Y9LLHp69L5s2rvnb6Fx31UVnDxUHVfes+mn3M3z8L1+BFNdSk/7TdfoGTYxsuqjgy5dHXPjLG/DeXL0vUKE/dOZTjit/y2Z3Tfl2vi1mvLe936R4vUykW6f7Oo/XwldlPJ9fbJpO2mri/PM9L1nNUJ73ci7wl68TXZRVAqZUOHLYHoBkEMYDA6YrHOH71qBrwT7od/lxSEdCVhdWKcnOnW8lxZVw1BO6HMlfrpB/Q+mFu2vXp7anKwr154/mz2q/WHWd+Xrw+i6oWyTT1YevhzTTOJx+pWs/ir3yr//VvMxuT8deDOsoU1/Vqyly/7q2ptHz/XV29xee7qjL25Sm5Li15eBtJR336u0MlZfN9i+/Pu3ym9zH7MG+GstcAOFdRw2quA4qp/NQYlfd1RlW5sKffuK5trdYoT+vaWI4rvstnV077db8usxe1XkmPlzzv5+GkufvL83y757lreinbR+vhSZ3ZXN4zD1tXvrcHwBVBDMDVpJfpLnhx8Y/8k/l53eK63jZjufuSb8+2LnOV2ki+4asrNMmkl4tPeZ+LdC6LFYDurar1pBrTxUZ9mYV86g32b+32Ey35c6X+9/13dXytP6I/qnyD5bpeLcXrp813iU44qb5vZRWh2cfEdGV/LDlm4KyYN689maj88LPcskfUNlTjLumNlTwTcm9da5SndW0sxxXv5bMjp/06X5eZmKLu7qaiQev/PJw0dn95nm/HNb0AOCUEMQBX+s1Hqsvgcvmv/Jv5ed3iut7hv0Xj6k91FWDxqyozlRZiVksq+atFd/vOVsq6Mo4aBbpCU9ooMFzX86t1cycdmchzsqPoLVdJhdOvrtj6ZjykhIoaEDNvXvU/Shp4eXq+jHQZpJey+WbcteThKyq3f2yvLN2tPr9Nl/LUN//lsxu3/Vr+rov/86jjEPe3Dp7n5VZzXsRLTz3ht+d7ewDcEMQAToyplHQut2ropodRxBZ/dafPFfNmqFJLzGqFwE+85AM2qUaBGYdqGwXFNzSu63m0+DWNpdXkXm0Zin776zfoVHbfMm/NzFCSqjdmwHnojuMyQA/t2Nz4setml3Q3+52YOXhsYyw/h41LeepbM+VzNbf9Wv6ui//zqGMf95fnuV864KAnAM7M/2H2vR3f2wPgjiAGcFIWYuooV3/qVXpaN2KH1JZUekwl6k5uog22TP/RiWwebrxLd179hsZWAsoqYSuu6+1iYb+NIF952zRu13Rz18GOOsOD1tw3M8Gnqti9zOxQkkJ3XuCcxW9z9xDMrKNGeVoqmi9gG82Xz+Wc9ut8XWyjOb+enZchralhI+X7T+x6f53xPHfjml6iYTHOQzIr0kHt7QHwiSAGcEJmAz3JXXbyLTctO2HdpJfpEq3fMvQmHRm9pRrt0TdnFGbfng0yjYju40g6erb1qpaF+rt8N2xb+ejIXbom6LqeV1HlbfLhHJCwY4y1qorhyvr7Fk3Ypu6L7rabHwcNwL7NNRMW9nYdJlJlJoOSr2xevN6r/KvbhvFQL/fyNB6ulpQVOgjajobKbMN3+ezKab+u1yUu956TbZk33u9X0lcfp3k/DyMu91f7z6rxvNwBz3NXrukluq/pOUviuXWiH7Oq00G97QHwiSAGELRolvxo6X3vMMxBT1inWgLp70RvD69kWpg0L2402Lef8boXH7fZ2c1NN+up9FVFKlknWjKVF7XfN7nP/N5+o2luv47r6cpL/Hs7Xld/bZ39OV9pctEd67dD2escL2X1Odso0TbNmeF+3+wEn1rTc3AA4dJDRvRXG86HLzV6QNXVlfGbyH0q7+rFlkO5ISqu5akqJ9/UcSfzArR/5SkanrIdz+WzM8f9Ol4X+00aq22ZrxP9epTL6PcJ7+dhdcerHj6l23N+XtbB83zbry13TS+F+9p+l7uf9fmtKh3U3R4Af/63XC7/i/7tlZ5IyxTAW35d0rE4lfPAbkw6kGnqK80Oz7xpMJWSZsf9nrfou+z1NyDkygCTJvRbrZqVrvr3zR6D/r5/b+P4AQBHg+c5ANRDTwwAWCcam172jSB2QrS5rB0u64ntYsuEngAAAIBGEAMA1mnZ77LPf+uA7h3xYgbBNzyh12wgeubzzuiRt3MAAACAQhADANaKvv1AVvNq2KUnE/2NJQ0NM0vm9ehNzFe3MYwEAAAAsBqbEwM4Jcc4JwYAAAAAnBt6YgAAAAAAgCAQxAAAAAAAAEEgiAEAAAAAAILQWBBDzyFwcf2am9E/PKdyHgAAAAAAhI6eGAAAAAAAIAgEMQAAAAAAQBAIYgAAAAAAgCAQxAAAAAAAAEEgiAEAAAAAAIJAEAMAAAAAAASBIAYAAAAAAAgCQQwAAAAAABAEghgAAAAAACAIBDEAAAAAAEAQCGIAAAAAAIAgEMQAAAAAAABBIIgBAAAAAACCQBADAAAAAAAEgSAGAAAAAAAIAkEMAAAAAAAQBIIYAAAAAAAgCP9bLpf/Rf8GsMZscCE9mcpy3I0+AQAAAADsGz0xAAAAAABAEAhiAAAAAACAIBDEAAAAAAAAQWgsiKHnELi4fpVF9HOoTuU8AAAAAAAIHT0xAGwwk8HFhVy/bhHGW7zKtfrbi3ipCgYm6w/UXgEASNvheYTNTvL5S3o5LnusT+IsEMQA0IzWg3wtl7JUy7QffQYAwFE7VOOXRjdQivokShDEAHAckofUWPgiWwBHK/9WUC0Duo8hZDx/AQSGIAYAAAje4vVaGu8OPxvIRXsoMvoxbwXj5fbjWniBDgDAfhDEAEJk3gTqSrPtfhq/CbSV+LLxgqv1Nr85XMjrdXq9nkyi32Tl19uhAu841tGcm/ld7lzKTqTkTald6h/nuv1muvzqhk3+s4i9JzRwgCbpSbjbw7l0Ro8NvklW5d6zKhE7I3l7aEWfWd3xl+Q+UqrL3fLAS/R36ZWTMj/+m3iba8qWqExKltIC32M5HnPa73E+j1bX1e5nPmyntllWvruex2a19lsnHZQ8BwvH18Tz15XD8dXbr2t6cZW/vxvSla90Xyufe8q/yT5Xx6ePK9l/IU04nIex3/y7UuO+IWgEMYCAvd8/y+XPj4w6IpOeqsT/PsnyZySd+VBe4oeKeUD15Dv15vBH/YFeP/PgMeu15f0u/YZxKsXhh/oB0Zbh1TS1PZFhe92DrEKdsY7qvNrqXGQaHZ/+g0mveB6ZN6X2+qiWh/qorKHhIL9fe8Kr/XYfzT7m75+Fh/2LalhJ/2m7/QKoYCvAPVU77qv8+bWPjDb/zeXzEq7lbi1zU86acj4p29Rn99lGhml8qAuir0e87+XtR26/nstxxWm/R/w8aj18ZfbTyfW2yaQtj/e31n4Nl3Sgrsu9yFtqO/b4cg06389fZ47Hp7k+953SiyudrlSju79KV8vlk/zm8prmNd0bjvfXc/49ifpkjfuG8BHEAII1l/mVbhy35M+V/lk10h/z7yBVBf9+KHNVoKcrQrrSZOoBz6uCffai1it5w5i3eH0W9biW6Xi1r9bDm33wfWz59KxBVxSSXXdvzUPx++/q8bT4fFdXpi9PyXm05OFNPYjVp787PMUy+1UVv6fM9WvJzZ2JYshneh+zD/PmoX/b3Lth4HxFFeC5DlCm8mdjVFmiM77K1T39hm9tLdu93K1NV85XBVFU7qSCKqrxcG96pPxkr0d3nPnZeznutN9TeR41eH9dVaUD6cr460H9ZqX18KSu1FzeMw+peqqev+7qHV/Vfl3Ti7PFX/lW/8s+u4vH7DvdJyrur/90fyL1Sdf7hpNAEANwNemluqfp5R/5J/PzusV1vfpjuTMFdedObvKl9OJT3ufqV5fF4rt7q546SaN7Jh+qtd25u6ko6BfyqTfYv8112Y4efN9/iw9jr/pSFg+Y7xKdcFLcb+syW6koq4DNzEUdSaEuAGA30RvBicpfP8ste1htQzVOkt5dyTMh9/bYudytLx8Q1Q2I9GSMxSBuGf/luNN+T+V51OD9dVWVDppxPM9fbbVf1/RSQ+uP6CRU1bPGb7pf2Xx/m0n3J1GfdLxvOA0EMQBXOjKedE/Ty7/yb+bndYvres1VQK7+bH6UuFvIr3rmFAM6tjt3ulF/KK2bO+nIRJ6TVkX09mBNRcifrtjneDykpIGKFQDDvOnT/3Aoc/R8GfnyarevsWzJw1dUbuvu1upIdPfn/Db9lbvuFqaAruK/HHfbr3Uqz6ND3N86snMq6GXXOSL8Ou7j68o4ClbqBrE9vuJQF9L9Lpo4D7f7htNAEAM4A2XdPRd/dae7ulqiOyAUAzrxcgRfz7b4NY2b1eRobRmKflvr99hM5aVzmQlQZN5GmKEkVW9EAWyjO9bljR5jrYd2bK6k2nWzS7o79E7MnAK20pyfE8dfuevO9BCr5L8cd9uvdSrPo0PcX1c6QKAnus3M07DTHBF+HfvxWalgpTk2G6xMv+En3VvHdR7V9w2ngSAGcMpaN2KHUpY8dEwjPO4yaB8m+fXseMW0fQ0b2dbCfntA/qG4aTyk6Zaugx11hvMsxDyzr/5kt2sm+FQPzJeZHUpS6CYJwJ/4rduRVVKdy901onHd22iZAnoim4eT+y/HnfYbzPOofP+JXe/vWhX7dRZ10z/aoYy+j881vexClzU2yJJuxPtN964OVA8Lsj5Zft9wGghiACctmohu0st0ddZvQXqTjoze4sZ9NHHU5Dl5o2nelLxfSV99nNZ9tLNVt48yrB09FCcfzgEJO6ZVq6r4r8wGejLB7GRUVnwde6Y7ZH5cKwDf7Fs3M7Fcb9dhIlVmMij5CsrF670qD3QdPh465lruqjWj4W9J2aODqu1oqMw2om9KKnzLw2yQCfJ4L8ed9hvK8yh+jqz2n+V+f+up2q+raDvpuRbiOWSiHw/L9/G5pxdnKt3myxLbCO/IXTri4DXduztMPSyA/Ot633ASCGIAp05PRKdq+Onvnm8Pr2SamwzPzjBt32iadfTXa309ymX0+4TpPj2VvnqQxduLl/yDLf7cjm9UD6od1nPVHeuoe/TtAbml7DlpGxHapjkzstvrfa8fnmIn+NSanoMDQEwPGdFf9TcfvtToUVVXV8ZvIvepskAv9hudc0NUHMtdXZ6+qeNOxm+3f+Upnjh0K6qhYYI6q7LcLB+32W9PcCzH3Tnu90DPo7q641UPn9Ltud7fmir366iwnfa73EVfn5nm+/nryvX4XDmnF1fq/r7JfXJtzDZNPs/fX7/p3llD6b7SgfKvczp1vm84Bf9bLpf/Rf/2Sk+kZSr6gX+tzamcB3Zj0oFMU195heMUfUe4/saCXJ4191C/Laj5MDNvEMxD2nV8pj0G/T3q3sbdAwAAADDoiQHgdERjycu+EcROwDWXnYcbV7BdF5nQEwAAAGgCQQwAp6NlvyM8/y0BunfEixm03vBEZ7OB6BnXO6NHx14bAAAAAOogiAHghETfViCr8ZJ26clEf2NJQ8PCkvGavYn5yjiGkQAAAADNaGxODOCUMCcGAAAAABwePTEAAAAAAEAQCGIAAAAAAIAgEMQAAAAAAABBaCyIoecQuLh+zX1DQHhO5TwAAAAAAAgdPTEAAAAAAEAQCGIAAAAAAIAgEMQAAAAAAABBIIgBAAAAAACCQBADAAAAAAAEgSAGAAAAAAAIAkEMAAAAAAAQBIIYAAAAAAAgCAQxAAAAAABAEAhiAAAAAACAIBDEAAAAAAAAQSCIAQAAAAAAgkAQAwAAAAAABIEgBgAAAAAACAJBDAAAAAAAEASCGAAAAAAAIAgEMQAAAAAAQBD+t1wu/4v+DWCN2eBCejKV5bgbfQIAAAAA2DeCGAAAAAAAIAgMJwEAAAAAAEEgiAEAAAAAAILQWBBDzyFwcf0qi+jnUJ3KeQAAAAAAEDp6YgAAAAAAgCAQxAAAAAAAAEEgiAEAAAAAAIJAEAMAAAAAAASBIAYAAAAAAAgCQQwAAAAAABAEghgAAAAAACAIBDEAAAAAAEAQCGIAAAAAAIAgEMQAAAAAAABBIIgBAAAAAACCQBADAAAAAAAEgSAGAAAAAAAIAkEMAAAAAAAQBIIYAAAAAAAgCAQxAAAAAABAEAhiAAAAAACAIPxvuVz+F/0bAAAAAADgaNETo8JscCEXg1n0EwAAAAAAOBSCGAAAAAAAIAgEMQAAAAAAQBAaC2KYYRjXr7KIfgYAAAAAANgFPTFQ3+JVri8u5OJiIMwWgqN10HQ6k4HZ92oJbmqdwPP54vU62GPfSnK/omXdSwTX9Tw7jvvhkC+r0v2Brt92TqAcOnb7Lifrpr99Hx/Kud63vZQvtly4fj3ekgtwQRADALzSFYSeTPpTWS6XyTLuRr8+KCovJ6v1IF9RWpv2o8/KuK5XSwjpylO+bOT6NeGYyyFsLZj0h4yDls/AaSKIEaJ8pDa17OUtS1LIjoX6EHZjGz+Ft0Q+3h4dKp3OPmQiHRk9Bp47yOc4Ja758lTSfdDlUJ3nwkJer9Vnnio/Zii02Ud2Wbv5Y08vlOMAThRBjID1p/rBlF14ywKf9tcFfCLPqbe4i893mUf/Ds3i77f675X8admfARzeueXL0zjfQz0X+jJN1at+Rh2Z9OjBBgDHhCDGCTMNUDOeLn6rES1lrxTW9u64luS57ThWr9Z+47coyXqp/dW0br+ZisdsUPwsYhvs2+//1Og3Uu3hXDqjx4bf4HRkNOrL/P0zSk8LUXVVGU1H6jff8jd9P0rSaSFZNZJO/bHpLB8Yio4hte/axxel7bL17D715z3VLBCZD9uZdTP5wfH6WbljU0v+8Hxe580TRtvtF/N2towpb4g4lEPmutjPV9dzzbou26vDJd0fQK10lfB0P3yrle5duZ5HPh/t63ztfqrTc0U+T7a1Wk//PtnuVteyxnOhYa2HL9O1fz58UVci4phe1pV/jaf7HY+vvHw+QLlWK502UG5seK4mXM6jEa7nm1/PltdA6AhinLr5UNqqwJK414Z+Ek96xQpIe6hqBz/Rm4cfGXX0L1Ql4udLHuI3OUm3RIexei77NQ/NtgyvVmN2f0Yiw/YOD4D8fu0GV9vrPppzW1WMYjN5UQ126T+tzvds2QdeTz3ldG+fryYvyOKvqo4qN7fSn7/Lp74pi095lzu5KexWpZd7kbcordj0ot+Q5R7c3tOpg1RFRwd+9BvEXlJhUMtWlXjF8fhM5U7dsEzvrNuPZD1dCbefT0Vfkk6S1+2Suceu189U3HryndpW/MaycP08XefWpc68vzWupb4Pbfl9Wu1XN7Sz+61TDs3N5+3fp2hdXVaqz+7T99d3ueaY7g+gVroyfN+PCnXyZZ1yw4nreej18nNXPMlvJk05ql0OOaTnGvn8/f5ZLn9s/UH/3mxXnXRH5f+XOveu1nNhn1LBk12eMzYhNJfutaOvr6ntOZdrhyh3q5+rVp3z8MnxfE3+bcv7XbpstuU1EDqCGGdAF8DJMJOuqhSo/32nXmPYLpp9eVpFK+ThTb/tmMvvDoVw5X5fn1UVqy/T1BiY1sObrQB9bPnUUTL7VQ/yJ/08fo4fdi25uTNRDFsxipnxw+pvb5vtc3D8ogfjXAew9jk8qSuP6gH8rm7K7GUoV08P6k7ldWX8lf289fCkUtDc/N22qtKpk+44VZFQ6Uun66TCoJbccddReXyqknJvesz8ZO+XOqbm7t9CXu+HMlcNr3RDNX5jucpvKz6uc+vPlfrvqiFhembENbao4XOV6z/vvRzSjc1k3bg8WQVW/JdrzaT7Q/F+PzZpMF9WcT6PKN1mnz3Fe+5km/PdmJ7r5PO5zK/0S4CWmGyqX4LsPB+Hy3NhHxZiRud0tg+iZNJ9oV7iOd1vYa/50qhZru273HV+rh6mfHY9X51v5p2RvBUCykD4CGK4mPRWbzLM8o/8k/l53eK63nZzDug3HdntlEV++1LWLp/vEp1wUrVf3TVU93y4VY+AtKgC9P03VTmqo7jf/NvbsgfM7GOiXyNK6HMx7iR64zZR1+FnmeqBsyetmzv9Kk+eJ+l7uFsgrdqh8oer6uMrBiH3QL8VVdm3c1ncZ/dWVX/zQUJf17l1qZpGsZnobKtqbKnysyPZQ6rab/1yKB/otL0R4knzmirXToX/+3GcapxH64/oj0p7MO3BxvRcM59ntrVDgz/tMM+FrMXrveiOLf2tgyjFdJ+tlxw63R9/vtx3uXuQ56oz1/O1z8jO3c2W6RY4bgQxKnTHqbcYyfKv/Fv4rGxxXW+7WaN15Dy7ne0anrqS0JH0BFrR25c1DzY/FvKryuBigMgOY1g93JvQFVv/ioeUUNBrJmKv/+Fw7ctmcC8f41th8av2GU0+17qRO/XTvPBgXsmOidULYzsXJiMdRr7XQ+NMgy9qwOjeU/2RjDoTMS+e0mnJme9yqJly7XzS/SGfCz7VOY+ujKMhnKsXE4cfKpS293xe87ngX3YYTnt4ZXq0ZN/A+3Ts6f7YyzX/x1fnubr/8vlUyklgNwQxoEtrVUVQ5V4yKVtbhqLfxjf5lVwt0S8iTBfBTCAmXvzt2zyMOpeZAEXmLZIZSnKsEff9sQE7PVZSV+A2V6LLgnu7z53Rkocvta24ptiybyhjuqKgx3lng3eM7TRv9A6kbDiI/VaEpthyQ+9X76dzeWO6Fevus2a/uXxezXc55L9cO690v7/nQrPqnkdU9pnf6Xtr5wA4RM+MMvvP52mbnwvNyA3DaSDdZeslx57uj71c8398rs/Vw5TPp1JOArshiHH2FvL6PCkWhg2OFba26OZnhjvoIEud4TfRWNarP9nzMRN8qoriy8wOJdnrW55jFr8VPJ5KtK1AR90nT3XITzyR3RbsPBFRb4RKtvJTexhHnn47umY7tnLe1AR8ttyY/36q9CByp3ZiepLF5Ug+n1fy3R3a9/ZCSfee0pX363cou5yHLoNtI6gseLBXB8vn1Q5+bXaSr5cce7o/9nLN//Vze64eqnx2Pd/yctnOpwGEjyDG2YsKw8y48v3oPtpZy9uOLeXVd8S7Ntj0sAc9SWV28iMrmhhq0jPd7/LjLc+bffNlJyjfcpiII/e3eVE6TY/BjufwiH4MRTx8K0nD+jza0VCebUTfuFOYDX02KAlCxfn9ecfu6iqNmJnpepn0od9K9SYdGb01FwQ1b8gmQxnG31Sg38yqcqSnB61voW45VMXv9kJJ977Slf/7cSjO56Hyab6MtY2MjgnSHdZh8vn+enkcRlm95NjT/bGXa96vn9Nz9XDls9v5xvXcVblseo68X0lffQyEjiBGwIoTe2735rw71m99cl/FVrI9XfjFn9txd6oAjX7eqqFrvgJM7VtVkOLtxkvZ9mzjT9s0V0f2PHrf64fF2Ak+tSbn/giXHjKiZ7jPfDf+AXXHqx4i5v623+Uu+jq/NO/p1DeV7t/UQSf5t/0rT9GY+O3EQafUtdHLx23pGO7CdcxdF+frp78JYdpPDUOLx47vaVLY5C2mneNGK5uAsFLNcqiS5+35TvdN5Y+qdOXM9/1w5P36uZ6Hykdvcp/5vf3G8/1Prlzq0PncVcl1Tr65qAH18pFDvcQxvRwsnx+oXHPmvdxwe64erHx2PF/7TUKr4zNfU/v1KJfR74GQ/W+5XP4X/dsrPfGfKagbH5aA3eiv1OzZb6TI3StzD/XblmOpTFXQhb+tXLmOB7Tnrr//fvf5HAAAAFbq10sAAC7oiXHuorH4Zd/MYSc22u9Xme1T/D3b5z6hJwAAAACEgiDGuWvZmb5XXzcam8mLHmN+qhMpzgaiZ5TujB55OwIAAAAAgSCIcfaib6OQ1bg7u/Rkor+x5MSGAyXjDXsT85VYDCMBAOBU6WGj6brNmuX61ds3WwAAmtfYnBgAAAAAAAA+0RMDAAAAAAAEgSAGAAAAAAAIAkEMAAAAAAAQBIIYAAAAAAAgCAQxAAAAAABAEAhiAAAAAACAIBDEAAAAAAAAQSCIAQAAAAAAgkAQAwAAAAAABIEgBgAAAAAACAJBDAAAAAAAEASCGAAAAAAAIAgEMQAAAAAAQBAIYgAAAAAAgCAQxAAAAAAAAEEgiAEAAAAAAIJAEAMAAAAAAASBIAYAAAAAAAgCQQwAAAAAABAEghgAAAAAACAIBDEAAAAAAEAARP4fTVK+Maz7li0AAAAASUVORK5CYII=)"
      ]
    },
    {
      "attachments": {},
      "cell_type": "markdown",
      "id": "v3WuzXSN-qS_",
      "metadata": {
        "id": "v3WuzXSN-qS_"
      },
      "source": [
        "## **Important Libraries**\n",
        "\n",
        "* **pandas**: pandas is a fast, powerful, flexible, and easy-to-use open-source data analysis and manipulation tool built on top of the Python programming language. Refer to [documentation](https://pandas.pydata.org/) for more information.\n",
        "\n",
        "* **NumPy**: The fundamental package for scientific computing with Python. Fast and versatile, the NumPy vectorization, indexing, and broadcasting concepts are the de-facto standards of array computing today. NumPy offers comprehensive mathematical functions, random number generators, linear algebra routines, Fourier transforms, and more. Refer to [documentation](https://numpy.org/) for more information. pandas and NumPy are together used for most of the data analysis and manipulation in Python.\n",
        "\n",
        "* **Matplotlib**: Matplotlib is a comprehensive library for creating static, animated, and interactive visualizations in Python. Refer to [documentation](https://matplotlib.org/) for more information.\n",
        "\n",
        "* **seaborn**: Seaborn is a Python data visualization library based on matplotlib. It provides a high-level interface for drawing attractive and informative statistical graphics. Refer to [documentation](https://seaborn.pydata.org/) for more information.\n",
        "\n",
        "* **scikit-learn**: Simple and efficient tools for predictive data analysis\n",
        "accessible to everybody and reusable in various contexts.\n",
        "It is built on NumPy, SciPy, and matplotlib to support machine learning in Python. Refer to [documentation](https://scikit-learn.org/stable/) for more information.\n",
        "\n",
        "* **Warnings**:The warnings library provides a way to handle warnings that are generated during program execution. Warnings are typically issued when there is a potential issue with code, but the code still runs without errors. The warnings module provides a way to catch these warnings and handle them in a way that is appropriate for the program. This can be especially useful when developing and debugging code, as warnings can help identify potential issues before they become errors.\n",
        "\n",
        "* **sys**:The sys library provides access to some system-specific parameters and functions. This library can be used to access system-level information, such as the command line arguments passed to the program, the version of the Python interpreter being used, and more.\n",
        "\n",
        "* **xgboost**: xgboost is an open-source machine learning library designed to be highly efficient, scalable, and portable. It is a gradient boosting algorithm that is used for supervised learning problems, including regression, classification, and ranking. Refer to [documentation](https://xgboost.readthedocs.io/en/stable/install.html) for more information.\n",
        "\n",
        "\n",
        "* **lightgbm**: LightGBM is a gradient boosting framework that uses tree based learning algorithms. Refer to [documentation](https://lightgbm.readthedocs.io/en/v3.3.5/) for more information."
      ]
    },
    {
      "attachments": {},
      "cell_type": "markdown",
      "id": "c4fc1bfa",
      "metadata": {
        "id": "c4fc1bfa"
      },
      "source": [
        "# **Package Requirements**"
      ]
    },
    {
      "cell_type": "code",
      "execution_count": null,
      "id": "qGeRqhOz_KVv",
      "metadata": {
        "id": "qGeRqhOz_KVv"
      },
      "outputs": [],
      "source": [
        "import warnings\n",
        "warnings.filterwarnings('ignore')"
      ]
    },
    {
      "cell_type": "code",
      "execution_count": null,
      "id": "43f812a6",
      "metadata": {
        "id": "43f812a6",
        "outputId": "57f10385-f711-4c92-dfe1-01c0930d7925"
      },
      "outputs": [],
      "source": [
        "# python version 3.8.10\n",
        "\n",
        "!pip install numpy==1.20.0\n",
        "!pip install pandas==1.2.4\n",
        "!pip install matplotlib==3.7.1\n",
        "!pip install scikit-learn==0.23.2\n",
        "!pip install xgboost==1.6.2\n",
        "!pip install lightgbm==3.3.2\n",
        "!pip install projectpro"
      ]
    },
    {
      "cell_type": "code",
      "execution_count": 76,
      "id": "b124c0ed",
      "metadata": {
        "id": "b124c0ed"
      },
      "outputs": [],
      "source": [
        "import matplotlib.pyplot as plt\n",
        "import pandas as pd\n",
        "from sklearn import preprocessing\n",
        "# Suppress all warnings\n",
        "import warnings\n",
        "warnings.filterwarnings(\"ignore\")\n",
        "from projectpro import checkpoint, feedback, show_video, save_point, preserve"
      ]
    },
    {
      "cell_type": "code",
      "execution_count": null,
      "id": "3144b116",
      "metadata": {
        "id": "3144b116"
      },
      "outputs": [],
      "source": [
        "pd.set_option('display.max_columns', 200)"
      ]
    },
    {
      "attachments": {},
      "cell_type": "markdown",
      "id": "32e31f28",
      "metadata": {
        "id": "32e31f28"
      },
      "source": [
        "Its the maximum number of columns displayed when a frame is pretty-printed.\n",
        "By setting this limit we can see 200 columns at once without truncation.\n"
      ]
    },
    {
      "attachments": {},
      "cell_type": "markdown",
      "id": "05348169",
      "metadata": {},
      "source": [
        "## **Introductory Video**"
      ]
    },
    {
      "cell_type": "code",
      "execution_count": 77,
      "id": "718128bf",
      "metadata": {},
      "outputs": [
        {
          "data": {
            "text/html": [
              "\n",
              "        <div align=\"center\">\n",
              "        <iframe width=\"100%\" height=\"500\"\n",
              "        src=\"https://youtube.com/embed/TXMFCf79-2g\"\n",
              "        </iframe>\n",
              "        </div>\n",
              "    "
            ],
            "text/plain": [
              "<IPython.core.display.HTML object>"
            ]
          },
          "execution_count": 77,
          "metadata": {},
          "output_type": "execute_result"
        }
      ],
      "source": [
        "show_video(\"TXMFCf79-2g\")"
      ]
    },
    {
      "attachments": {},
      "cell_type": "markdown",
      "id": "08PY34mz_QIc",
      "metadata": {
        "id": "08PY34mz_QIc"
      },
      "source": [
        "## **Data Reading from Different Sources**"
      ]
    },
    {
      "attachments": {},
      "cell_type": "markdown",
      "id": "tOexH_kj_US2",
      "metadata": {
        "id": "tOexH_kj_US2"
      },
      "source": [
        "<details>\n",
        "    <summary>Click here to view more</summary>\n",
        "\n",
        "\n",
        "### **Files**\n",
        "\n",
        "In many cases, the data is stored in the local system. To read the data from the local system, specify the correct path and filename.\n",
        "\n",
        "### **CSV Format**\n",
        "Comma-separated values, also known as CSV, is a specific way to store data in a table structure format. The data used in this project is stored in a CSV file. Download the data for the project.\n",
        "\n",
        "\n",
        "Use following code to read data from csv file using pandas.\n",
        "```\n",
        "import pandas as pd\n",
        "csv_file_path= \"D:/ProjectPro/Marketing Spend Optimization using Machine Learning in Python/Marketing_Data.csv\"\n",
        "df = pd.read_csv(csv_file_path)\n",
        "```\n",
        "With appropriate csv_file_path, pd.read_csv() function will read the data and store it in df variable.\n",
        "\n",
        "If you get *FileNotFoundError or No such file or directory*, try checking the path provided in the function. It's possible that python is not able to find the file or directory at a given location.\n",
        "\n",
        "\n",
        "### **Colab - CSV Format**\n",
        "\n",
        "```\n",
        "# mount the google drive\n",
        "from google.colab import drive\n",
        "drive.mount('/content/drive')\n",
        "csv_file_path= '/content/drive/MyDrive/project_pro/Marketing Spend Optimization using Machine Learning in Python/Marketing_Data.csv'\n",
        "df = pd.read_csv(csv_file_path)\n",
        "```\n",
        "\n",
        "### **AWS S3 - CSV**\n",
        "Use the S3 public link to read the CSV file directly into a pandas DataFrame\n",
        "```\n",
        "s3_link = 'https://s3.amazonaws.com/projex.dezyre.com/marketing-spend-optimization-machine-learning-python/materials/Marketing_Data.csv'\n",
        "df = pd.read_csv(s3_link)\n",
        "```\n",
        "\n"
      ]
    },
    {
      "attachments": {},
      "cell_type": "markdown",
      "id": "7ba55589",
      "metadata": {
        "id": "7ba55589"
      },
      "source": [
        "# **The Data**"
      ]
    },
    {
      "cell_type": "code",
      "execution_count": null,
      "id": "588443c9",
      "metadata": {
        "id": "588443c9"
      },
      "outputs": [],
      "source": [
        "csv_file_path = \"https://s3.amazonaws.com/projex.dezyre.com/marketing-spend-optimization-machine-learning-python/materials/Marketing_Data.csv\"\n",
        "df = pd.read_csv(csv_file_path)"
      ]
    },
    {
      "attachments": {},
      "cell_type": "markdown",
      "id": "44be0c30",
      "metadata": {
        "id": "44be0c30"
      },
      "source": [
        "Lets look at the first 10 records from the dataframe."
      ]
    },
    {
      "cell_type": "code",
      "execution_count": null,
      "id": "65e0aadd",
      "metadata": {
        "colab": {
          "base_uri": "https://localhost:8080/",
          "height": 878
        },
        "id": "65e0aadd",
        "outputId": "c8b3c95c-b659-48f7-aa19-5f89bf969f35",
        "scrolled": true
      },
      "outputs": [],
      "source": [
        "df.head(10)"
      ]
    },
    {
      "attachments": {},
      "cell_type": "markdown",
      "id": "472db6f4",
      "metadata": {
        "id": "472db6f4"
      },
      "source": [
        "If we look at the dataframe, we notice that there is an ID column and there are multiple columns with NA values.\n",
        "\n",
        "What we will do here is:\n",
        "1. Look for other such columns which don't serve value;\n",
        "2. Treat columns having missing values either by imputation or by dropping them;"
      ]
    },
    {
      "attachments": {},
      "cell_type": "markdown",
      "id": "819361ed",
      "metadata": {
        "id": "819361ed"
      },
      "source": [
        "# **Exploratory Data Analysis**"
      ]
    },
    {
      "attachments": {},
      "cell_type": "markdown",
      "id": "9a87ff70",
      "metadata": {
        "id": "9a87ff70"
      },
      "source": [
        "## **Data Exploration**\n",
        "\n",
        "Data exploration is a critical step in the data analysis process, where you examine the dataset to gain a preliminary understanding of the data, detect patterns, and identify potential issues that may need further investigation. Data exploration is important because it helps to provide a solid foundation for subsequent data analysis tasks, hypothesis testing and data visualization.\n",
        "\n",
        "Data exploration is also important because it can help you to identify an appropriate approach for analyzing the data.\n",
        "\n",
        "Here are the various functions that help us explore and understand the data.\n",
        "\n",
        "* Shape: Shape is used to identify the dimensions of the dataset. It gives the number of rows and columns present in the dataset. Knowing the dimensions of the dataset is important to understand the amount of data available for analysis and to determine the feasibility of different methods of analysis.\n",
        "\n",
        "* Head: The head function is used to display the top five rows of the dataset. It helps us to understand the structure and organization of the dataset. This function gives an idea of what data is present in the dataset, what the column headers are, and how the data is organized.\n",
        "\n",
        "* Tail: The tail function is used to display the bottom five rows of the dataset. It provides the same information as the head function but for the bottom rows. The tail function is particularly useful when dealing with large datasets, as it can be time-consuming to scroll through all the rows.\n",
        "\n",
        "* Describe: The describe function provides a summary of the numerical columns in the dataset. It includes the count, mean, standard deviation, minimum, and maximum values, as well as the quartiles. It helps to understand the distribution of the data, the presence of any outliers, and potential issues that can affect the model's accuracy.\n",
        "\n",
        "* Isnull: The isnull function is used to identify missing values in the dataset. It returns a Boolean value for each cell, indicating whether it is null or not. This function is useful to identify the presence of missing data, which can be problematic for regression analysis.\n",
        "\n",
        "* Dropna: The dropna function is used to remove rows or columns with missing data. It is used to remove any observations or variables with missing data, which can lead to biased results in the regression analysis. The dropna function is used after identifying the missing data with the isnull function.\n",
        "\n",
        "* Columns: The .columns method is a built-in function that is used to display the column names of a pandas DataFrame or Series. It returns an array-like object that contains the names of the columns in the order in which they appear in the original DataFrame or Series. It can be used to obtain a quick overview of the variables in a dataset and their names."
      ]
    },
    {
      "attachments": {},
      "cell_type": "markdown",
      "id": "44b12f3d",
      "metadata": {
        "id": "44b12f3d"
      },
      "source": [
        "### **What can we learn from the data?**"
      ]
    },
    {
      "cell_type": "code",
      "execution_count": null,
      "id": "e749623a",
      "metadata": {
        "colab": {
          "base_uri": "https://localhost:8080/"
        },
        "id": "e749623a",
        "outputId": "96dc0ff5-8adc-4054-f86b-09ab5062751c"
      },
      "outputs": [],
      "source": [
        "df.shape"
      ]
    },
    {
      "cell_type": "code",
      "execution_count": null,
      "id": "f887b4d9",
      "metadata": {
        "colab": {
          "base_uri": "https://localhost:8080/"
        },
        "id": "f887b4d9",
        "outputId": "a5d6d6f0-6b00-4d14-f042-9f87d31c192b"
      },
      "outputs": [],
      "source": [
        "# Checking the names of the columns\n",
        "df.columns"
      ]
    },
    {
      "attachments": {},
      "cell_type": "markdown",
      "id": "14e94664",
      "metadata": {
        "id": "14e94664"
      },
      "source": [
        "## **Data Dictionary**\n",
        "\n",
        "\n",
        "\n",
        "| Column name\t | Description|\n",
        "| ----- | ----- |\n",
        "| Lead Id|  Unique Identifier |\n",
        "| Lead Owner|  Internal sales person associated with the lead |\n",
        "| Interest Level|  What is lead's interest level? (entered manually) |\n",
        "| Lead created|  Lead creation date |\n",
        "| Lead Location(Auto)|  Automatically detected location |\n",
        "| Creation Source|  Creation source of the lead |\n",
        "| Next activity|  Date for Next Activity |\n",
        "| What do you do currently ?|  Current profile of lead |\n",
        "| What are you looking for in Product ?|  Specific requirement from product |\n",
        "| Website Source|  Website Source of the Lead |\n",
        "| Lead Last Update time|  Last update time for Lead |\n",
        "| Marketing Source|  Marketing Source of the Lead |\n",
        "| Lead Location(Manual)|  Manually entered lead location |\n",
        "| Demo Date|  Date for Demo |\n",
        "| Demo Status|  Status of demo booked with lead |\n",
        "| Closure date|  Lead closing date |"
      ]
    },
    {
      "cell_type": "code",
      "execution_count": null,
      "id": "8beee630",
      "metadata": {
        "colab": {
          "base_uri": "https://localhost:8080/",
          "height": 377
        },
        "id": "8beee630",
        "outputId": "c4a967e6-ae2c-4fc6-80c8-0a02ca7b5da1"
      },
      "outputs": [],
      "source": [
        "# Check the Information of the Dataframe, number of unique values and frequency\n",
        "df.describe()"
      ]
    },
    {
      "cell_type": "code",
      "execution_count": null,
      "id": "0ae9af3f",
      "metadata": {
        "colab": {
          "base_uri": "https://localhost:8080/"
        },
        "id": "0ae9af3f",
        "outputId": "f4d9c519-0c1e-402b-b17a-79274b7442bf"
      },
      "outputs": [],
      "source": [
        "# Check the Information of the Dataframe, datatypes and non-null counts\n",
        "df.info()"
      ]
    },
    {
      "attachments": {},
      "cell_type": "markdown",
      "id": "3bbf6183",
      "metadata": {
        "id": "3bbf6183"
      },
      "source": [
        "**Observation:**\n",
        "* we can see some null values present in this data. We will treat them later\n",
        "* Lead created, Next activity, Lead Last Update time and Demo Date should be datetime datatype but it is object"
      ]
    },
    {
      "cell_type": "code",
      "execution_count": null,
      "id": "efb1538f",
      "metadata": {
        "id": "efb1538f"
      },
      "outputs": [],
      "source": [
        "df['Lead created'] = pd.to_datetime(df['Lead created'], format=\"%d-%m-%Y %H:%M\")\n",
        "df['Lead Last Update time'] = pd.to_datetime(df['Lead Last Update time'], format=\"%d-%m-%Y %H:%M\")\n",
        "df['Next activity'] = pd.to_datetime(df['Next activity'], format=\"%d-%m-%Y %H:%M\")\n",
        "df['Demo Date'] = pd.to_datetime(df['Demo Date'], format=\"%d-%m-%Y %H:%M\")\n",
        "checkpoint(\"fcMar1\")"
      ]
    },
    {
      "attachments": {},
      "cell_type": "markdown",
      "id": "a8753a62",
      "metadata": {
        "id": "a8753a62"
      },
      "source": [
        "Lets see how many different Lead Owners we have"
      ]
    },
    {
      "cell_type": "code",
      "execution_count": null,
      "id": "2badf7cb",
      "metadata": {
        "colab": {
          "base_uri": "https://localhost:8080/"
        },
        "id": "2badf7cb",
        "outputId": "30954b40-0274-49b1-df04-1e8ece7e61bd"
      },
      "outputs": [],
      "source": [
        "df['Lead Owner'].unique()"
      ]
    },
    {
      "cell_type": "code",
      "execution_count": null,
      "id": "6bc9d26e",
      "metadata": {
        "colab": {
          "base_uri": "https://localhost:8080/"
        },
        "id": "6bc9d26e",
        "outputId": "2183ca10-314d-4fec-95f0-d95847cd958b"
      },
      "outputs": [],
      "source": [
        "df['Lead Owner'].value_counts()"
      ]
    },
    {
      "attachments": {},
      "cell_type": "markdown",
      "id": "26ce5211",
      "metadata": {
        "id": "26ce5211"
      },
      "source": [
        "**Observation**\n",
        "* The data seems to be evenly distributed amongst lead owners"
      ]
    },
    {
      "cell_type": "code",
      "execution_count": null,
      "id": "cee61b3f",
      "metadata": {
        "colab": {
          "base_uri": "https://localhost:8080/"
        },
        "id": "cee61b3f",
        "outputId": "473b4dd3-757a-4193-ec62-74406dd68d7e"
      },
      "outputs": [],
      "source": [
        "df['Interest Level'].unique()"
      ]
    },
    {
      "cell_type": "code",
      "execution_count": null,
      "id": "aca285ea",
      "metadata": {
        "colab": {
          "base_uri": "https://localhost:8080/"
        },
        "id": "aca285ea",
        "outputId": "de509c8c-f5ca-441b-8a3f-d8cc3487ba36"
      },
      "outputs": [],
      "source": [
        "df['Interest Level'].value_counts()"
      ]
    },
    {
      "attachments": {},
      "cell_type": "markdown",
      "id": "84e6acc6",
      "metadata": {
        "id": "84e6acc6"
      },
      "source": [
        "**Observation**\n",
        "* We see that some of the interest levels are similar semantically\n",
        "* Since interest level is our target variable, it seems to be nicely distributed"
      ]
    },
    {
      "attachments": {},
      "cell_type": "markdown",
      "id": "7347fa30",
      "metadata": {
        "id": "7347fa30"
      },
      "source": [
        "**Points to ponder upon**\n",
        "* Should we formulate the problem as multi-class or binary classification problem?\n",
        "* In case, we want to do binary classification, how do we deal with many values in our target variable?"
      ]
    },
    {
      "cell_type": "code",
      "execution_count": null,
      "id": "afec9220",
      "metadata": {
        "colab": {
          "base_uri": "https://localhost:8080/"
        },
        "id": "afec9220",
        "outputId": "7b3adacd-6b28-471c-e36f-aa9a5aab3bfc"
      },
      "outputs": [],
      "source": [
        "df['What do you do currently ?'].value_counts()"
      ]
    },
    {
      "cell_type": "code",
      "execution_count": null,
      "id": "bffefd6d",
      "metadata": {
        "colab": {
          "base_uri": "https://localhost:8080/"
        },
        "id": "bffefd6d",
        "outputId": "cc7c2a5c-1b54-42ae-a700-d600d1a642c4"
      },
      "outputs": [],
      "source": [
        "df['What do you do currently ?'].unique().shape"
      ]
    },
    {
      "attachments": {},
      "cell_type": "markdown",
      "id": "a894bb3d",
      "metadata": {
        "id": "a894bb3d"
      },
      "source": [
        "**Observation**\n",
        "* There are many unique values in the above column\n",
        "* If we process the string we can reduce these"
      ]
    },
    {
      "attachments": {},
      "cell_type": "markdown",
      "id": "93659f59",
      "metadata": {
        "id": "93659f59"
      },
      "source": [
        "**Think about it**\n",
        "* Do we need to focus on so many values and confuse the model?\n",
        "* What can we do to reduce these?"
      ]
    },
    {
      "cell_type": "code",
      "execution_count": null,
      "id": "a3bbf1f6",
      "metadata": {
        "colab": {
          "base_uri": "https://localhost:8080/"
        },
        "id": "a3bbf1f6",
        "outputId": "71b5f333-1b0a-4929-ac9a-67c534ece622"
      },
      "outputs": [],
      "source": [
        "df['Creation Source'].unique()"
      ]
    },
    {
      "cell_type": "code",
      "execution_count": null,
      "id": "b88e1256",
      "metadata": {
        "colab": {
          "base_uri": "https://localhost:8080/"
        },
        "id": "b88e1256",
        "outputId": "80d74904-a0eb-446c-c731-f6865d7485f0"
      },
      "outputs": [],
      "source": [
        "df['Creation Source'].value_counts()"
      ]
    },
    {
      "attachments": {},
      "cell_type": "markdown",
      "id": "238271e7",
      "metadata": {
        "id": "238271e7"
      },
      "source": [
        "**Observation**\n",
        "* This feature looks well balanced in terms of unique values"
      ]
    },
    {
      "cell_type": "code",
      "execution_count": null,
      "id": "d943605e",
      "metadata": {
        "colab": {
          "base_uri": "https://localhost:8080/"
        },
        "id": "d943605e",
        "outputId": "3e9cc48d-7c51-4910-de6b-96b00d3c667a"
      },
      "outputs": [],
      "source": [
        "df['What are you looking for in Product ?'].unique().shape"
      ]
    },
    {
      "cell_type": "code",
      "execution_count": null,
      "id": "88dfc533",
      "metadata": {
        "colab": {
          "base_uri": "https://localhost:8080/"
        },
        "id": "88dfc533",
        "outputId": "e694463f-88a2-40de-987b-4824eed9f6a2"
      },
      "outputs": [],
      "source": [
        "df['What are you looking for in Product ?'].value_counts()"
      ]
    },
    {
      "attachments": {},
      "cell_type": "markdown",
      "id": "27ccc7eb",
      "metadata": {
        "id": "27ccc7eb"
      },
      "source": [
        "**Observation**\n",
        "* This feature has many unqiue values and processing it will take a lot of time"
      ]
    },
    {
      "attachments": {},
      "cell_type": "markdown",
      "id": "cc162624",
      "metadata": {
        "id": "cc162624"
      },
      "source": [
        "**Think about it**\n",
        "* Should we still work with this column?\n",
        "* If yes, what can we do?"
      ]
    },
    {
      "cell_type": "code",
      "execution_count": null,
      "id": "0a7fdb11",
      "metadata": {
        "colab": {
          "base_uri": "https://localhost:8080/"
        },
        "id": "0a7fdb11",
        "outputId": "2e80d0e9-7fe9-41b4-f29e-0411f6270852"
      },
      "outputs": [],
      "source": [
        "df['Website Source'].unique()"
      ]
    },
    {
      "cell_type": "code",
      "execution_count": null,
      "id": "43c6ffdb",
      "metadata": {
        "colab": {
          "base_uri": "https://localhost:8080/"
        },
        "id": "43c6ffdb",
        "outputId": "e6b7dc64-c268-43f9-e804-ff330c8c131b"
      },
      "outputs": [],
      "source": [
        "df['Website Source'].value_counts()"
      ]
    },
    {
      "attachments": {},
      "cell_type": "markdown",
      "id": "09318ca6",
      "metadata": {
        "id": "09318ca6"
      },
      "source": [
        "**Observation**\n",
        "* Column has very less variance in terms of frequency\n",
        "* Most of the values are concentrated around 1 or 2 enums"
      ]
    },
    {
      "attachments": {},
      "cell_type": "markdown",
      "id": "ace526a6",
      "metadata": {
        "id": "ace526a6"
      },
      "source": [
        "**Think about it**\n",
        "* Almost no variance in data, can model learn something important?"
      ]
    },
    {
      "cell_type": "code",
      "execution_count": null,
      "id": "c0cc98be",
      "metadata": {
        "colab": {
          "base_uri": "https://localhost:8080/"
        },
        "id": "c0cc98be",
        "outputId": "2062fb74-3eec-4f80-b5e6-b884753e662d"
      },
      "outputs": [],
      "source": [
        "df['Marketing Source'].value_counts()"
      ]
    },
    {
      "attachments": {},
      "cell_type": "markdown",
      "id": "4ee2037d",
      "metadata": {
        "id": "4ee2037d"
      },
      "source": [
        "**Observation**\n",
        "* There is a long tail of values\n",
        "* The 1st half looks really interesting in terms of distribution"
      ]
    },
    {
      "cell_type": "code",
      "execution_count": null,
      "id": "c9d9c2e1",
      "metadata": {
        "colab": {
          "base_uri": "https://localhost:8080/"
        },
        "id": "c9d9c2e1",
        "outputId": "61374b16-4141-4a6a-e158-fed423163e02"
      },
      "outputs": [],
      "source": [
        "df['Demo Status'].value_counts()"
      ]
    },
    {
      "attachments": {},
      "cell_type": "markdown",
      "id": "9883eec4",
      "metadata": {
        "id": "9883eec4"
      },
      "source": [
        "**Observation**\n",
        "* The column is nicely dsitributed\n",
        "* Has very less unique values"
      ]
    },
    {
      "attachments": {},
      "cell_type": "markdown",
      "id": "751f61e1",
      "metadata": {
        "id": "751f61e1"
      },
      "source": [
        "**Think about it**\n",
        "* If we use this column, are we doing a feature leak?"
      ]
    },
    {
      "cell_type": "code",
      "execution_count": null,
      "id": "5d203d71",
      "metadata": {
        "colab": {
          "base_uri": "https://localhost:8080/"
        },
        "id": "5d203d71",
        "outputId": "fc7711b9-4911-4a3c-a959-9f0996359463"
      },
      "outputs": [],
      "source": [
        "df['Lead Location(Manual)'].value_counts(normalize=1)"
      ]
    },
    {
      "attachments": {},
      "cell_type": "markdown",
      "id": "4d96028e",
      "metadata": {
        "id": "4d96028e"
      },
      "source": [
        "**Observation**\n",
        "* This feature again has a very long tail"
      ]
    },
    {
      "attachments": {},
      "cell_type": "markdown",
      "id": "63efdc26",
      "metadata": {
        "id": "63efdc26"
      },
      "source": [
        "**Think about it**\n",
        "* What if we just create 2 enums; India and Non India"
      ]
    },
    {
      "attachments": {},
      "cell_type": "markdown",
      "id": "f74ed9ea",
      "metadata": {
        "id": "f74ed9ea"
      },
      "source": [
        "# **Data Processing & Feature engineering**"
      ]
    },
    {
      "attachments": {},
      "cell_type": "markdown",
      "id": "d274025f",
      "metadata": {
        "id": "d274025f"
      },
      "source": [
        "### **Data Preprocessing and Leakage**\n",
        "\n",
        "Data leakage is a situation where information from the test or prediction data is inadvertently used during the training process of a machine learning model. This can occur when information from the test or prediction data is leaked into the training data, and the model uses this information to improve its performance during the training process.\n",
        "\n",
        "Data leakage can occur during the preprocessing phase of machine learning when information from the test or prediction data is used to preprocess the training data, inadvertently leaking information from the test or prediction data into the training data.\n",
        "\n",
        "For example, consider a scenario where the preprocessing step involves imputing missing values in the dataset. If the missing values are imputed using the mean or median values of the entire dataset, including the test and prediction data, then the imputed values in the training data may be influenced by the values in the test and prediction data. This can lead to data leakage, as the model may learn to recognize patterns in the test and prediction data during the training process, leading to overfitting and poor generalization performance.\n",
        "\n",
        "\n",
        "To avoid data leakage, it's important to perform the data preprocessing steps on the training data only, and then apply the same preprocessing steps to the test and prediction data separately. This ensures that the test and prediction data remain unseen by the model during the training process, and helps to prevent overfitting and improve the accuracy of the model.\n",
        "\n",
        "In the context of this problem, we will perform data preprocessing steps together for the sake of simplicity, which could potentially lead to data leakage. However, in real-world scenarios, it's important to treat the test and prediction data separately and apply the necessary preprocessing steps separately, based on the characteristics of the data."
      ]
    },
    {
      "attachments": {},
      "cell_type": "markdown",
      "id": "b5ae2ed8",
      "metadata": {
        "id": "b5ae2ed8"
      },
      "source": [
        "### **Missing Value Detection and Imputation**\n",
        "\n",
        "Real world datasets are never friendly to data scientists. They always pose great challenges to those who are dealing with them due to many different reasons and one of them is “missing values”\n",
        "\n",
        "Missing values can be imputed with a provided constant value, or using the statistics (mean, median or most frequent) of each column in which the missing values are located"
      ]
    },
    {
      "attachments": {},
      "cell_type": "markdown",
      "id": "51504bc4",
      "metadata": {
        "id": "51504bc4"
      },
      "source": [
        "We previously saw there are some missing values in the data. Lets have a look into that now."
      ]
    },
    {
      "cell_type": "code",
      "execution_count": null,
      "id": "2fb1fc58",
      "metadata": {
        "id": "2fb1fc58"
      },
      "outputs": [],
      "source": [
        "# Lead Owner"
      ]
    },
    {
      "cell_type": "code",
      "execution_count": null,
      "id": "34b49383",
      "metadata": {
        "colab": {
          "base_uri": "https://localhost:8080/"
        },
        "id": "34b49383",
        "outputId": "f04358ae-742a-40ba-d100-2ac6d523f853"
      },
      "outputs": [],
      "source": [
        "df['Lead Owner'].isna().sum()"
      ]
    },
    {
      "cell_type": "code",
      "execution_count": null,
      "id": "f8c08c2d",
      "metadata": {
        "id": "f8c08c2d"
      },
      "outputs": [],
      "source": [
        "# Interest Level"
      ]
    },
    {
      "cell_type": "code",
      "execution_count": null,
      "id": "cbf04369",
      "metadata": {
        "colab": {
          "base_uri": "https://localhost:8080/"
        },
        "id": "cbf04369",
        "outputId": "42528089-6070-4412-e69a-9be9834e41fd"
      },
      "outputs": [],
      "source": [
        "df['Interest Level'].isna().sum()"
      ]
    },
    {
      "attachments": {},
      "cell_type": "markdown",
      "id": "a751c7cd",
      "metadata": {
        "id": "a751c7cd"
      },
      "source": [
        "Since target variable has missing values, we will drop such rows"
      ]
    },
    {
      "cell_type": "code",
      "execution_count": null,
      "id": "1ee1e68d",
      "metadata": {
        "id": "1ee1e68d"
      },
      "outputs": [],
      "source": [
        "df = df[df['Interest Level'].notna()]"
      ]
    },
    {
      "cell_type": "code",
      "execution_count": null,
      "id": "1ae56795",
      "metadata": {
        "colab": {
          "base_uri": "https://localhost:8080/"
        },
        "id": "1ae56795",
        "outputId": "40b846ae-570f-4b29-994c-62e5884c4fe5"
      },
      "outputs": [],
      "source": [
        "df['Interest Level'].value_counts()"
      ]
    },
    {
      "attachments": {},
      "cell_type": "markdown",
      "id": "0ba9e67a",
      "metadata": {
        "id": "0ba9e67a"
      },
      "source": [
        "With this mean, we will fill the NaN values."
      ]
    },
    {
      "attachments": {},
      "cell_type": "markdown",
      "id": "ac69be7f",
      "metadata": {
        "id": "ac69be7f"
      },
      "source": [
        "##### Now we will handle our target variable\n",
        "\n",
        "Since there are multiple values in target variable and we want to formulate our problem as a binary classification problem, we will do the following assignments"
      ]
    },
    {
      "attachments": {},
      "cell_type": "markdown",
      "id": "e4da659a",
      "metadata": {
        "id": "e4da659a"
      },
      "source": [
        "**Label assignment:**\n",
        "* Slightly Interested = 1\n",
        "* Not Interested=0\n",
        "* No Answer=0\n",
        "* Fairly Interested=1\n",
        "* Very Interested=1\n",
        "\n",
        "* we will drop rows where value is Not called, Closed or Invalid Number"
      ]
    },
    {
      "cell_type": "code",
      "execution_count": null,
      "id": "222c5cc0",
      "metadata": {
        "id": "222c5cc0"
      },
      "outputs": [],
      "source": [
        "df = df[~df['Interest Level'].isin([\"Not called\", \"Closed\", \"Invalid Number\"])]"
      ]
    },
    {
      "cell_type": "code",
      "execution_count": null,
      "id": "7cd536f8",
      "metadata": {
        "colab": {
          "base_uri": "https://localhost:8080/"
        },
        "id": "7cd536f8",
        "outputId": "329b75ac-6383-406e-ab00-41d33a1ce798"
      },
      "outputs": [],
      "source": [
        "df['Interest Level'].value_counts()"
      ]
    },
    {
      "cell_type": "code",
      "execution_count": null,
      "id": "4a9bea5c",
      "metadata": {
        "id": "4a9bea5c"
      },
      "outputs": [],
      "source": [
        "df['Interest Level'] = df['Interest Level'].apply(lambda x: 1 if x in [\"Slightly Interested\", \"Fairly Interested\", \"Very Interested\"] else 0)\n",
        "preserve(\"fcMar1\")"
      ]
    },
    {
      "cell_type": "code",
      "execution_count": null,
      "id": "cf0a06e1",
      "metadata": {
        "colab": {
          "base_uri": "https://localhost:8080/"
        },
        "id": "cf0a06e1",
        "outputId": "f882d24b-1710-402c-9d6f-e33378127fa8"
      },
      "outputs": [],
      "source": [
        "df['Interest Level'].value_counts()"
      ]
    },
    {
      "attachments": {},
      "cell_type": "markdown",
      "id": "7d6d1c15",
      "metadata": {
        "id": "7d6d1c15"
      },
      "source": [
        "#### Drop not imporant columns"
      ]
    },
    {
      "cell_type": "code",
      "execution_count": null,
      "id": "12479545",
      "metadata": {
        "colab": {
          "base_uri": "https://localhost:8080/"
        },
        "id": "12479545",
        "outputId": "71c41024-aca3-4cbc-c302-877ef76ce2c2"
      },
      "outputs": [],
      "source": [
        "df.columns"
      ]
    },
    {
      "cell_type": "code",
      "execution_count": null,
      "id": "a61c7bce",
      "metadata": {
        "id": "a61c7bce"
      },
      "outputs": [],
      "source": [
        "df = df.drop([\"Lead Id\", \"Lead Location(Auto)\", \"Next activity\", \"What are you looking for in Product ?\",\n",
        "              \"Lead Last Update time\", \"Lead Location(Manual)\", \"Demo Date\", \"Demo Status\", \"Closure date\"], axis=1)"
      ]
    },
    {
      "attachments": {},
      "cell_type": "markdown",
      "id": "443b25ed",
      "metadata": {
        "id": "443b25ed"
      },
      "source": [
        "#### Lead creation time\n",
        "\n",
        "- We will create 2 features here from our lead creation time column\n",
        "    1. hour of day\n",
        "    2. day of week"
      ]
    },
    {
      "cell_type": "code",
      "execution_count": null,
      "id": "d264b4d7",
      "metadata": {
        "id": "d264b4d7"
      },
      "outputs": [],
      "source": [
        "df['hour_of_day'] = df['Lead created'].dt.hour\n",
        "df['day_of_week'] = df['Lead created'].dt.weekday"
      ]
    },
    {
      "cell_type": "code",
      "execution_count": null,
      "id": "4c036477",
      "metadata": {
        "id": "4c036477"
      },
      "outputs": [],
      "source": [
        "df = df.drop([\"Lead created\"], axis=1)"
      ]
    },
    {
      "attachments": {},
      "cell_type": "markdown",
      "id": "19f4a98a",
      "metadata": {
        "id": "19f4a98a"
      },
      "source": [
        "Now lead created column is not useful and we drop it"
      ]
    },
    {
      "attachments": {},
      "cell_type": "markdown",
      "id": "b2f10f0e",
      "metadata": {
        "id": "b2f10f0e"
      },
      "source": [
        "#### Creation source"
      ]
    },
    {
      "cell_type": "code",
      "execution_count": null,
      "id": "9c2c683c",
      "metadata": {
        "colab": {
          "base_uri": "https://localhost:8080/"
        },
        "id": "9c2c683c",
        "outputId": "ea517c29-c100-4f8a-dec6-3d3ec53dafeb"
      },
      "outputs": [],
      "source": [
        "df['Creation Source'].value_counts()"
      ]
    },
    {
      "cell_type": "code",
      "execution_count": null,
      "id": "e8a78803",
      "metadata": {
        "id": "e8a78803"
      },
      "outputs": [],
      "source": [
        "from pandas import factorize"
      ]
    },
    {
      "cell_type": "code",
      "execution_count": null,
      "id": "b3bd9c05",
      "metadata": {
        "id": "b3bd9c05"
      },
      "outputs": [],
      "source": [
        "labels, categories = factorize(df[\"Creation Source\"])"
      ]
    },
    {
      "cell_type": "code",
      "execution_count": null,
      "id": "077bad84",
      "metadata": {
        "colab": {
          "base_uri": "https://localhost:8080/"
        },
        "id": "077bad84",
        "outputId": "65d7ca1f-dfb1-4643-bee5-0703f77dbcd6"
      },
      "outputs": [],
      "source": [
        "df[\"labels\"] = labels\n",
        "abs(df[\"Interest Level\"].corr(df[\"labels\"]))"
      ]
    },
    {
      "attachments": {},
      "cell_type": "markdown",
      "id": "106e4d2e",
      "metadata": {
        "id": "106e4d2e"
      },
      "source": [
        "There is a positive correlation with the target variable"
      ]
    },
    {
      "cell_type": "code",
      "execution_count": null,
      "id": "66a49fa2",
      "metadata": {
        "id": "66a49fa2"
      },
      "outputs": [],
      "source": [
        "df = df.drop([\"labels\"], axis=1)"
      ]
    },
    {
      "attachments": {},
      "cell_type": "markdown",
      "id": "def6f681",
      "metadata": {
        "id": "def6f681"
      },
      "source": [
        "#### What do you do currently?\n",
        "\n",
        "* student = 1\n",
        "* others = 0\n",
        "\n",
        "As we saw earlier, this feature has a large number of values of which students are a dominating part.\n",
        "\n",
        "We will binarize this column into students and non-students"
      ]
    },
    {
      "attachments": {},
      "cell_type": "markdown",
      "id": "757bc0fd",
      "metadata": {
        "id": "757bc0fd"
      },
      "source": [
        "**Facts**\n",
        "\n",
        "<i>Binarization</i> is the process of dividing data into two groups and assigning one out. of two values to all the members of the same group. This is usually accomplished. by defining a threshold t and assigning the value 0 to all the data points below. the threshold and 1 to those above it."
      ]
    },
    {
      "cell_type": "code",
      "execution_count": null,
      "id": "aeaeba29",
      "metadata": {
        "colab": {
          "base_uri": "https://localhost:8080/"
        },
        "id": "aeaeba29",
        "outputId": "4724d979-ed61-4cce-9145-134eba541192"
      },
      "outputs": [],
      "source": [
        "df['What do you do currently ?'].isna().sum()"
      ]
    },
    {
      "cell_type": "code",
      "execution_count": null,
      "id": "06d83d72",
      "metadata": {
        "colab": {
          "base_uri": "https://localhost:8080/"
        },
        "id": "06d83d72",
        "outputId": "ca8a56a4-f2cf-4f8f-890e-adce00346cee"
      },
      "outputs": [],
      "source": [
        "df['What do you do currently ?'].value_counts(normalize=1)"
      ]
    },
    {
      "cell_type": "code",
      "execution_count": null,
      "id": "8d78f5f5",
      "metadata": {
        "id": "8d78f5f5"
      },
      "outputs": [],
      "source": [
        "df['What do you do currently ?'] = df['What do you do currently ?'].apply(lambda x: 1 if 'student' in str(x).strip().lower() else 0)"
      ]
    },
    {
      "attachments": {},
      "cell_type": "markdown",
      "id": "3f4cde99",
      "metadata": {
        "id": "3f4cde99"
      },
      "source": [
        "#### Website Source"
      ]
    },
    {
      "cell_type": "code",
      "execution_count": null,
      "id": "b5162ba9",
      "metadata": {
        "colab": {
          "base_uri": "https://localhost:8080/"
        },
        "id": "b5162ba9",
        "outputId": "58ac2805-911e-481a-e625-a961b474e64d"
      },
      "outputs": [],
      "source": [
        "df['Website Source'].isna().sum()"
      ]
    },
    {
      "cell_type": "code",
      "execution_count": null,
      "id": "d2cc8280",
      "metadata": {
        "colab": {
          "base_uri": "https://localhost:8080/"
        },
        "id": "d2cc8280",
        "outputId": "5b28dc85-dac7-46dd-b878-4d9ea02d6a51"
      },
      "outputs": [],
      "source": [
        "df['Website Source'].value_counts()"
      ]
    },
    {
      "cell_type": "code",
      "execution_count": null,
      "id": "a299a270",
      "metadata": {
        "id": "a299a270"
      },
      "outputs": [],
      "source": [
        "df = df.drop([\"Website Source\"], axis=1)"
      ]
    },
    {
      "attachments": {},
      "cell_type": "markdown",
      "id": "5eeab9bf",
      "metadata": {
        "id": "5eeab9bf"
      },
      "source": [
        "Dropping the <b>Website Source</b> column as there is not enough variance"
      ]
    },
    {
      "attachments": {},
      "cell_type": "markdown",
      "id": "787507aa",
      "metadata": {
        "id": "787507aa"
      },
      "source": [
        "#### Marketing Source"
      ]
    },
    {
      "cell_type": "code",
      "execution_count": null,
      "id": "58a6c1f6",
      "metadata": {
        "colab": {
          "base_uri": "https://localhost:8080/"
        },
        "id": "58a6c1f6",
        "outputId": "0b995910-6c7f-4afd-c1f7-96585d1a7807"
      },
      "outputs": [],
      "source": [
        "df['Marketing Source'].value_counts()"
      ]
    },
    {
      "cell_type": "code",
      "execution_count": null,
      "id": "13ac9b1f",
      "metadata": {
        "colab": {
          "base_uri": "https://localhost:8080/"
        },
        "id": "13ac9b1f",
        "outputId": "16b4af38-da77-4b14-d3b4-80162ec68d07"
      },
      "outputs": [],
      "source": [
        "df['Marketing Source'].isna().sum()"
      ]
    },
    {
      "attachments": {},
      "cell_type": "markdown",
      "id": "ebe26a5c",
      "metadata": {
        "id": "ebe26a5c"
      },
      "source": [
        "Marketing Source has a large number of missing value and it will be noisy if we do an imputation here.\n",
        "\n",
        "Rather, let's create a new value <b>Unknown</b> which will be substituted for NA values"
      ]
    },
    {
      "cell_type": "code",
      "execution_count": null,
      "id": "82e82302",
      "metadata": {
        "id": "82e82302"
      },
      "outputs": [],
      "source": [
        "df['Marketing Source'].fillna(\"Unknown\", inplace=True)"
      ]
    },
    {
      "attachments": {},
      "cell_type": "markdown",
      "id": "5f0e27e8",
      "metadata": {
        "id": "5f0e27e8"
      },
      "source": [
        "PS: Imputation with Unknown led to improvements that dropping these rows"
      ]
    },
    {
      "attachments": {},
      "cell_type": "markdown",
      "id": "20cabce1",
      "metadata": {
        "id": "20cabce1"
      },
      "source": [
        "### Label Encoding"
      ]
    },
    {
      "attachments": {},
      "cell_type": "markdown",
      "id": "0e8dc34f",
      "metadata": {
        "id": "0e8dc34f"
      },
      "source": [
        "**Transforming Categorical Variables**\n",
        "\n",
        "Transforming variables is an important step in the data preprocessing pipeline of machine learning, as it helps to convert the data into a format that is suitable for analysis and modeling. There are several ways to transform variables, depending on the type and nature of the data.\n",
        "\n",
        "Categorical variables, for example, are variables that take on discrete values from a finite set of categories, such as colors, gender, or occupation. One common way to transform categorical variables is through one-hot encoding. One-hot encoding involves creating a new binary variable for each category in the original variable, where the value is 1 if the observation belongs to that category and 0 otherwise. This approach is useful when the categories have no natural order or ranking.\n",
        "\n",
        "Another way to transform categorical variables is through label encoding. Label encoding involves assigning a unique integer value to each category in the variable. This approach is useful when the categories have a natural order or ranking, such as low, medium, and high.\n",
        "Transforming categorical features into numerical labels:\n",
        "\n",
        "**Note:** We are NOT using dummies here to minimize the explosion of columns because of the distance methods we are using.\n"
      ]
    },
    {
      "cell_type": "code",
      "execution_count": null,
      "id": "0bad061b",
      "metadata": {
        "id": "0bad061b"
      },
      "outputs": [],
      "source": [
        "label_encoder1 = preprocessing.LabelEncoder()"
      ]
    },
    {
      "cell_type": "code",
      "execution_count": null,
      "id": "c0580d1e",
      "metadata": {
        "id": "c0580d1e"
      },
      "outputs": [],
      "source": [
        "df['Marketing Source']= label_encoder1.fit_transform(df['Marketing Source'])\n",
        "save_point(\"fcMar1\")"
      ]
    },
    {
      "cell_type": "code",
      "execution_count": null,
      "id": "c8ca91f8",
      "metadata": {
        "id": "c8ca91f8"
      },
      "outputs": [],
      "source": [
        "label_encoder2 = preprocessing.LabelEncoder()"
      ]
    },
    {
      "cell_type": "code",
      "execution_count": null,
      "id": "ee2ddc24",
      "metadata": {
        "id": "ee2ddc24"
      },
      "outputs": [],
      "source": [
        "df['Lead Owner']= label_encoder2.fit_transform(df['Lead Owner'])"
      ]
    },
    {
      "cell_type": "code",
      "execution_count": null,
      "id": "5c191d4c",
      "metadata": {
        "id": "5c191d4c"
      },
      "outputs": [],
      "source": [
        "label_encoder3 = preprocessing.LabelEncoder()\n",
        "df['Creation Source']= label_encoder3.fit_transform(df['Creation Source'])"
      ]
    },
    {
      "cell_type": "code",
      "execution_count": null,
      "id": "1b06bbf2",
      "metadata": {
        "colab": {
          "base_uri": "https://localhost:8080/",
          "height": 206
        },
        "id": "1b06bbf2",
        "outputId": "10026ea1-1f28-4d99-82bf-74c5f7ffba4d"
      },
      "outputs": [],
      "source": [
        "df.head()"
      ]
    },
    {
      "attachments": {},
      "cell_type": "markdown",
      "id": "0ee8a1c7",
      "metadata": {
        "id": "0ee8a1c7"
      },
      "source": [
        "We transformed 3 columns using label encoding\n",
        "\n",
        "Remember one thing, you should always use the same label encoding variable for test dataset. Since here we are handling train/test together, we are not worrying about it"
      ]
    },
    {
      "attachments": {},
      "cell_type": "markdown",
      "id": "5c348cd6",
      "metadata": {
        "id": "5c348cd6"
      },
      "source": [
        "# **Model Building and Testing**"
      ]
    },
    {
      "cell_type": "code",
      "execution_count": null,
      "id": "cbb206b5",
      "metadata": {
        "id": "cbb206b5"
      },
      "outputs": [],
      "source": [
        "from sklearn.ensemble import RandomForestClassifier, GradientBoostingClassifier, AdaBoostClassifier\n",
        "from sklearn.metrics import accuracy_score, precision_recall_curve, roc_curve, plot_roc_curve, plot_precision_recall_curve\n",
        "from sklearn.model_selection import train_test_split\n",
        "\n",
        "from xgboost import XGBClassifier\n",
        "from lightgbm import LGBMClassifier"
      ]
    },
    {
      "attachments": {},
      "cell_type": "markdown",
      "id": "ab5cb15e",
      "metadata": {
        "id": "ab5cb15e"
      },
      "source": [
        "Identify the right features for the model"
      ]
    },
    {
      "cell_type": "code",
      "execution_count": null,
      "id": "5f22e051",
      "metadata": {
        "id": "5f22e051"
      },
      "outputs": [],
      "source": [
        "X = df[[\"Lead Owner\", \"What do you do currently ?\", \"Marketing Source\", \"Creation Source\", \"hour_of_day\", \"day_of_week\"]]\n",
        "y = df[\"Interest Level\"]"
      ]
    },
    {
      "attachments": {},
      "cell_type": "markdown",
      "id": "d16b1e64",
      "metadata": {
        "id": "d16b1e64"
      },
      "source": [
        "**Splitting the dataset into a training and production dataset:**\n",
        "\n",
        "- Training: Part of data used for training our supervised models\n",
        "- Test: Part of the dataset used for testing our models performance"
      ]
    },
    {
      "cell_type": "code",
      "execution_count": null,
      "id": "e5ee0e32",
      "metadata": {
        "id": "e5ee0e32"
      },
      "outputs": [],
      "source": [
        "X_train, X_test, y_train, y_test = train_test_split(X, y, test_size=0.2, random_state=42)"
      ]
    },
    {
      "cell_type": "code",
      "execution_count": null,
      "id": "be779820",
      "metadata": {
        "id": "be779820",
        "outputId": "ca9c76cf-1e5c-436c-c969-418214caff0b"
      },
      "outputs": [],
      "source": [
        "X_train.head()"
      ]
    },
    {
      "attachments": {},
      "cell_type": "markdown",
      "id": "86132c80",
      "metadata": {
        "id": "86132c80"
      },
      "source": [
        "We finally have prepared model ready data.\n",
        "\n",
        "Lets look into model building now."
      ]
    },
    {
      "attachments": {},
      "cell_type": "markdown",
      "id": "1dd5fa7c",
      "metadata": {
        "id": "1dd5fa7c"
      },
      "source": [
        "## **Supervised learning**\n",
        "\n",
        "\n",
        "\n",
        "Supervised learning uses a training set to teach models to yield the desired output. This training dataset includes inputs and correct outputs, which allow the model to learn over time. The algorithm measures its accuracy through the loss function, adjusting until the error has been sufficiently minimized.\n",
        "\n",
        "Supervised learning can be separated into two types of problems when data mining—classification and regression:\n",
        "\n",
        "1. Classification uses an algorithm to accurately assign test data into specific categories. It recognizes specific entities within the dataset and attempts to draw some conclusions on how those entities should be labeled or defined. Common classification algorithms are linear classifiers, support vector machines (SVM), decision trees, k-nearest neighbor, and random forest, which are described in more detail below.\n",
        "\n",
        "\n",
        "2. Regression is used to understand the relationship between dependent and independent variables. It is commonly used to make projections, such as for sales revenue for a given business. Linear regression, logistical regression, and polynomial regression are popular regression algorithms.\n",
        "\n"
      ]
    },
    {
      "attachments": {},
      "cell_type": "markdown",
      "id": "da881f41",
      "metadata": {
        "id": "da881f41"
      },
      "source": [
        "## **Decision Tree**\n",
        "\n",
        "\n",
        "\n",
        "A decision tree is a non-parametric supervised learning algorithm, which is utilized for both classification and regression tasks. It has a hierarchical, tree structure, which consists of a root node, branches, internal nodes and leaf nodes.\n",
        "\n",
        "\n",
        "Decision tree learning employs a divide and conquer strategy by conducting a greedy search to identify the optimal split points within a tree. This process of splitting is then repeated in a top-down, recursive manner until all, or the majority of records have been classified under specific class labels. Whether or not all data points are classified as homogenous sets is largely dependent on the complexity of the decision tree. Smaller trees are more easily able to attain pure leaf nodes—i.e. data points in a single class.\n",
        "\n",
        "However, as a tree grows in size, it becomes increasingly difficult to maintain this purity, and it usually results in too little data falling within a given subtree. When this occurs, it is known as data fragmentation, and it can often lead to overfitting. As a result, decision trees have preference for small trees, which is consistent with the principle of parsimony in Occam’s Razor; that is, “entities should not be multiplied beyond necessity.” Said differently, decision trees should add complexity only if necessary, as the simplest explanation is often the best. To reduce complexity and prevent overfitting, pruning is usually employed; this is a process, which removes branches that split on features with low importance. The model’s fit can then be evaluated through the process of cross-validation."
      ]
    },
    {
      "attachments": {},
      "cell_type": "markdown",
      "id": "6b6d0234",
      "metadata": {},
      "source": [
        "### **Bagging**\n",
        "\n",
        "\n",
        "\n",
        "Bagging is an ensemble learning technique that aims to decrease the variance of a single estimator by combining the predictions from multiple learners. The basic idea behind bagging is to generate multiple versions of the training dataset through random sampling with replacement, and then train a separate classifier for each sampled dataset. The predictions from these individual classifiers are then combined using averaging or voting to obtain a final prediction.\n",
        "\n",
        "**Algorithm:**\n",
        "\n",
        "Suppose we have a training set D of size n, and we want to train a classifier using bagging. Here are the steps involved:\n",
        "\n",
        "* Create k different bootstrap samples from D, each of size n.\n",
        "* Train a classifier on each bootstrap sample.\n",
        "* When making predictions on a new data point, take the average or majority vote of the predictions from each of the k classifiers.\n",
        "\n",
        "\n",
        "**Mathematical Explanation:**\n",
        "\n",
        "Suppose we have a binary classification problem with classes -1 and 1. Let's also assume that we have a training set D of size n, and we want to train a decision tree classifier using bagging.\n",
        "\n",
        "**Bootstrap Sample**: For each of the k classifiers, we create a bootstrap sample of size n by sampling with replacement from D. This means that each bootstrap sample may contain duplicates of some instances and may also miss some instances from the original dataset. Let's denote the i-th bootstrap sample as D_i.\n",
        "\n",
        "**Train a Classifier**: We train a decision tree classifier T_i on each bootstrap sample D_i. This gives us k classifiers T_1, T_2, ..., T_k.\n",
        "\n",
        "**Combine Predictions**: To make a prediction on a new data point x, we take the majority vote of the predictions from each of the k classifiers.\n",
        "\n",
        "The idea behind bagging is that the variance of the prediction error decreases as k increases. This is because each classifier has a chance to explore a different part of the feature space due to the random sampling with replacement, and the final prediction is a combination of these diverse classifiers.\n",
        "\n",
        "\n",
        "\n",
        "### **Boosting**\n",
        "\n",
        "Boosting is a machine learning algorithm that works by combining several weak models (also known as base learners) into a strong model. The goal of boosting is to reduce the bias and variance of the base learners by iteratively adding new models to the ensemble that focus on correcting the errors made by the previous models. In other words, the boosting algorithm tries to learn from the mistakes of the previous models and improve the overall accuracy of the ensemble.\n",
        "\n",
        "Boosting works by assigning higher weights to the data points that the previous models misclassified, and lower weights to the ones that were classified correctly. This ensures that the new model focuses more on the difficult data points that the previous models struggled with, and less on the ones that were already well-classified. As a result, the new model is more specialized and can improve the accuracy of the ensemble.\n",
        "\n",
        "There are several types of boosting algorithms, including AdaBoost (Adaptive Boosting), Gradient Boosting, and XGBoost (Extreme Gradient Boosting). Each of these algorithms has its own approach to assigning weights to the data points and building the new models, but they all share the fundamental idea of iteratively improving the accuracy of the ensemble by combining weak models into a strong one. Boosting is a powerful algorithm that has been shown to achieve state-of-the-art results in many machine learning tasks, such as image classification, natural language processing, and recommender systems.\n",
        "\n",
        "\n",
        "\n",
        "\n",
        "\n",
        "\n",
        "\n",
        "\n",
        "\n",
        "**Difference between Bagging and Boosting**\n",
        "\n",
        "\n",
        "It's important to remember that boosting is a generic method, not a specific model, in order to comprehend it. Boosting involves specifying a weak model, such as regression or decision trees, and then improving it. In Ensemble Learning, the primary difference between Bagging and Boosting is that in bagging, weak learners are trained in simultaneously, but in boosting, they are trained sequentially. This means that each new model iteration increases the weights of the prior model's misclassified data. This redistribution of weights aids the algorithm in determining which parameters it should focus on in order to increase its performance.\n",
        "\n",
        "Both the Ensemble techniques are used in a different way as well.  Bagging methods, for example, are often used on poor learners who have large variance and low bias such as decision trees because they tend to overfit, whereas boosting methods are employed when there is low variance and high bias. While bagging can help prevent overfitting, boosting methods are more vulnerable to it because of a simple fact they continue to build on weak learners and continue to minimise error. This can lead to overfitting on the training data but specifying a decent number of models to be generated or hyperparameter tuning,  regularization can help in this case, if overfitting encountered.\n"
      ]
    },
    {
      "attachments": {},
      "cell_type": "markdown",
      "id": "6438753e",
      "metadata": {},
      "source": [
        "### **Random Forest**\n",
        "\n",
        "\n",
        "Another way that decision trees can maintain their accuracy is by forming an ensemble via a random forest algorithm; this classifier predicts more accurate results, particularly when the individual trees are uncorrelated with each other.\n",
        "\n",
        "Random Forest is an ensemble learning algorithm that builds a large number of decision trees and combines them to make a final prediction. It is a type of bagging method, where multiple decision trees are trained on random subsets of the training data and features. The algorithm then averages the predictions of these individual trees to produce a final prediction. Random Forest is particularly useful for handling high-dimensional data and for avoiding overfitting.\n",
        "\n",
        "**Algorithm of Random Forest**\n",
        "\n",
        "The algorithm of Random Forest can be summarized in the following steps:\n",
        "\n",
        "* Start by randomly selecting a subset of the training data, with replacement. This subset is called the bootstrap sample.\n",
        "\n",
        "* Next, randomly select a subset of features from the full feature set.\n",
        "\n",
        "* Build a decision tree using the bootstrap sample and the selected subset of features. At each node of the tree, select the best feature and split the data based on the selected feature.\n",
        "\n",
        "* Repeat steps 1-3 to build multiple trees.\n",
        "\n",
        "* Finally, combine the predictions of all trees to make a final prediction. For classification, this is usually done by taking a majority vote of the predicted classes. For regression, this is usually done by taking the average of the predicted values.\n",
        "\n",
        "\n",
        "**Mathematics Behind Random Forest**\n",
        "\n",
        "The mathematics behind Random Forest involves the use of decision trees and the bootstrap sampling technique. Decision trees are constructed using a recursive binary partitioning algorithm that splits the data based on the values of the selected features. At each node, the algorithm chooses the feature and the split point that maximizes the information gain. Information gain measures the reduction in entropy or impurity of the target variable after the split. The goal is to minimize the impurity of the subsets after each split.\n",
        "\n",
        "Bootstrap sampling is a statistical technique that involves randomly sampling the data with replacement to create multiple subsets. These subsets are used to train individual decision trees. By using bootstrap samples, the algorithm can generate multiple versions of the same dataset with slightly different distributions. This introduces randomness into the training process, which helps to reduce overfitting.\n",
        "\n",
        "\n",
        "\n",
        "**Difference between Bagging and Random Forest**\n",
        "\n",
        "Bagging and Random Forest are both ensemble learning algorithms that involve training multiple models on random subsets of the data. The main difference between the two is the way the individual models are trained.\n",
        "\n",
        "Bagging involves training multiple models using the bootstrap sampling technique, but each model uses the same set of features. This can lead to correlated predictions, which reduces the variance but not necessarily the bias of the model.\n",
        "\n",
        "Random Forest, on the other hand, involves training multiple models using the bootstrap sampling technique, but each model uses a randomly selected subset of features. This introduces additional randomness into the model and helps to reduce the correlation between individual predictions. Random Forest can achieve better performance than Bagging, especially when dealing with high-dimensional data or noisy features. In simpler terms it uses subsets of observations as well as features.\n",
        "\n",
        "\n",
        "\n",
        "\n",
        "\n",
        "\n"
      ]
    },
    {
      "attachments": {},
      "cell_type": "markdown",
      "id": "9b4cb623",
      "metadata": {
        "id": "9b4cb623"
      },
      "source": [
        "## **Gradient Boosting Trees**\n",
        "\n",
        "Gradient boosting is a machine learning technique used in regression and classification tasks, among others. It gives a prediction model in the form of an ensemble of weak prediction models, which are typically decision trees.\n",
        "\n",
        "When a decision tree is the weak learner, the resulting algorithm is called gradient-boosted trees; it usually outperforms random forest. A gradient-boosted trees model is built in a stage-wise fashion as in other boosting methods, but it generalizes the other methods by allowing optimization of an arbitrary differentiable loss function.\n",
        "\n",
        "Few examples of gradient boosting trees are Xgboost, LightGBM, etc"
      ]
    },
    {
      "attachments": {},
      "cell_type": "markdown",
      "id": "7a5e21ad",
      "metadata": {
        "id": "7a5e21ad"
      },
      "source": [
        "## **Bagging vs Boosting**\n",
        "\n",
        "\n",
        "1. Bagging: It is a homogeneous weak learners’ model that learns from each other independently in parallel and combines them for determining the model average.\n",
        "\n",
        "![image.png](https://media.geeksforgeeks.org/wp-content/uploads/20210707140912/Bagging.png)\n",
        "\n",
        "\n",
        "2. Boosting: It is also a homogeneous weak learners’ model but works differently from Bagging. In this model, learners learn sequentially and adaptively to improve model predictions of a learning algorithm.\n",
        "\n",
        "![image.png](https://media.geeksforgeeks.org/wp-content/uploads/20210707140911/Boosting.png)\n",
        "\n",
        "Credit: geeksforgeeks"
      ]
    },
    {
      "cell_type": "code",
      "execution_count": null,
      "id": "876217ff",
      "metadata": {
        "id": "876217ff"
      },
      "outputs": [],
      "source": [
        "rf = RandomForestClassifier(n_estimators=300)\n",
        "xgb = XGBClassifier(n_estimators=300, objective='binary:logistic', tree_method='hist', eta=0.1, max_depth=3)\n",
        "lgb = LGBMClassifier(n_estimators=300)\n",
        "checkpoint(\"fcMar1\")"
      ]
    },
    {
      "attachments": {},
      "cell_type": "markdown",
      "id": "21a59533",
      "metadata": {
        "id": "21a59533"
      },
      "source": [
        "#### Training multiple models together"
      ]
    },
    {
      "cell_type": "code",
      "execution_count": null,
      "id": "44028c29",
      "metadata": {
        "id": "44028c29",
        "outputId": "60050c36-4e72-4eff-d3bc-08a4a258ea27"
      },
      "outputs": [],
      "source": [
        "rf.fit(X_train, y_train)\n",
        "xgb.fit(X_train, y_train)\n",
        "lgb.fit(X_train, y_train)"
      ]
    },
    {
      "attachments": {},
      "cell_type": "markdown",
      "id": "311e02e5",
      "metadata": {
        "id": "311e02e5"
      },
      "source": [
        "All models are trained very qucikly here.\n",
        "\n",
        "Scitkit-learn provides an additional parameter n_jobs=-1 which parallelize some of the models using cpu threads"
      ]
    },
    {
      "attachments": {},
      "cell_type": "markdown",
      "id": "d630bb00",
      "metadata": {
        "id": "d630bb00"
      },
      "source": [
        "# Model Evaluation"
      ]
    },
    {
      "attachments": {},
      "cell_type": "markdown",
      "id": "e023f4dd",
      "metadata": {},
      "source": [
        "### **Classification Evaluation Metrics**\n",
        "\n",
        "Classification evaluation metrics are used to evaluate the performance of a machine learning model that is trained for classification tasks. Some of the commonly used classification evaluation metrics are F1 score, recall score, confusion matrix, and ROC AUC score. Here's an overview of each of these metrics:\n",
        "\n",
        "**F1 score**: The F1 score is a metric that combines the precision and recall of a model into a single value. It is calculated as the harmonic mean of precision and recall, and is expressed as a value between 0 and 1, where 1 indicates perfect precision and recall.\n",
        "F1 score is the harmonic mean of precision and recall. It is calculated as follows:\n",
        "$$ F1 = \\frac{2}{\\frac{1}{precision} + \\frac{1}{recall}} $$\n",
        "where precision is the number of true positives divided by the sum of true positives and false positives, and recall is the number of true positives divided by the sum of true positives and false negatives.\n",
        "\n",
        "**Recall**: Use the recall score when the cost of false negatives (i.e., missing instances of a class) is high. For example, in a medical diagnosis problem, the cost of missing a positive case may be high, so recall would be a more appropriate metric.\n",
        "Recall score (also known as sensitivity) is the number of true positives divided by the sum of true positives and false negatives. It is given by the following formula:\n",
        "$$ Recall = \\frac{TP}{TP + FN} $$\n",
        "\n",
        "**Precision**: Precision is another important classification evaluation metric, which is defined as the ratio of true positives to the total predicted positives. It measures the accuracy of positive predictions made by the classifier, i.e., the proportion of positive identifications that were actually correct.\n",
        "The formula for precision is:\n",
        "$$ precision = \\frac{true\\ positive}{true\\ positive + false\\ positive} $$\n",
        "where true positive refers to the cases where the model correctly predicted the positive class, and false positive refers to the cases where the model incorrectly predicted the positive class.\n",
        "Precision is useful when the cost of false positives is high, such as in medical diagnosis or fraud detection, where a false positive can have serious consequences. In such cases, a higher precision indicates that the model is better at identifying true positives and minimizing false positives.\n",
        "\n",
        "**Confusion Matrix**:\n",
        "A confusion matrix is a table that is often used to describe the performance of a classification model. It compares the predicted labels with the true labels and counts the number of true positives, false positives, true negatives, and false negatives. Here is an example of a confusion matrix:\n",
        "\n",
        "|          | Actual Positive | Actual Negative |\n",
        "|----------|----------------|----------------|\n",
        "| Predicted Positive | True Positive (TP) | False Positive (FP) |\n",
        "| Predicted Negative | False Negative (FN) | True Negative (TN) |\n",
        "\n",
        "​\n",
        "\n",
        "\n",
        "\n",
        "**ROC AUC Score**:\n",
        "ROC AUC (Receiver Operating Characteristic Area Under the Curve) score is a measure of how well a classifier is able to distinguish between positive and negative classes. It is calculated as the area under the ROC curve. The ROC curve is created by plotting the true positive rate (TPR) against the false positive rate (FPR) at various threshold settings. TPR is the number of true positives divided by the sum of true positives and false negatives, and FPR is the number of false positives divided by the sum of false positives and true negatives.\n",
        "$$ ROC\\ AUC\\ Score = \\int_0^1 TPR(FPR^{-1}(t)) dt $$\n",
        "where $FPR^{-1}$ is the inverse of the FPR function.\n",
        "\n",
        "**When to use which**:\n",
        "\n",
        "The choice of evaluation metric depends on the specific requirements of the business problem. Here are some general guidelines:\n",
        "\n",
        "* F1 score: Use the F1 score when the class distribution is imbalanced, and when both precision and recall are equally important.\n",
        "\n",
        "* Recall score: Use the recall score when the cost of false negatives (i.e., missing instances of a class) is high. For example, in a medical diagnosis problem, the cost of missing a positive case may be high, so recall would be a more appropriate metric.\n",
        "\n",
        "* Precision: Precision is useful when the cost of false positives is high, such as in medical diagnosis or fraud detection, where a false positive can have serious consequences. In such cases, a higher precision indicates that the model is better at identifying true positives and minimizing false positives.\n",
        "\n",
        "* Confusion matrix: The confusion matrix is a versatile tool that can be used to visualize the performance of a model across different classes. It can be useful for identifying specific areas of the model that need improvement.\n",
        "\n",
        "* ROC AUC score: Use the ROC AUC score when the ability to distinguish between positive and negative classes is important. For example, in a credit scoring problem, the ability to distinguish between good and bad credit risks is crucial.\n",
        "\n",
        "Importance with respect to the business problem:\n",
        "\n",
        "The importance of each evaluation metric varies depending on the business problem. For example, in a spam detection problem, precision may be more important than recall, since false positives (i.e., classifying a non-spam email as spam) may annoy users, while false negatives (i.e., missing a spam email) may not be as harmful. On the other hand, in a disease diagnosis problem, recall may be more important than precision, since missing a positive case (i.e., a false negative) could have serious consequences. Therefore, it is important to choose the evaluation metric that is most relevant to the specific business problem at hand.\n",
        "\n"
      ]
    },
    {
      "attachments": {},
      "cell_type": "markdown",
      "id": "ac8f43c8",
      "metadata": {
        "id": "ac8f43c8"
      },
      "source": [
        "### Evaluation metrics\n",
        "\n",
        "![image.png](https://blog.paperspace.com/content/images/2020/09/Fig01.jpg)"
      ]
    },
    {
      "attachments": {},
      "cell_type": "markdown",
      "id": "efd4f662",
      "metadata": {
        "id": "efd4f662"
      },
      "source": [
        "1. Accuracy\n",
        "\n",
        "\\begin{equation}\n",
        "\\text{Accuracy} = \\frac{True Positive + True Negative}{True Positive + False Positive + True Negative + False Negative}\n",
        "\\end{equation}\n",
        "\n",
        "\n",
        "2. Precision\n",
        "\n",
        "\\begin{equation}\n",
        "\\text{Precision} = \\frac{True Positive}{True Positive + False Positive}\n",
        "\\end{equation}\n",
        "\n",
        "\n",
        "3. Recall\n",
        "\n",
        "\\begin{equation}\n",
        "\\text{Recall} = \\frac{True Positive}{True Positive + False Negative}\n",
        "\\end{equation}\n",
        "\n",
        "\n",
        "4. F1-score\n",
        "\n",
        "\\begin{equation}\n",
        "\\text{F1-score} = 2 * \\frac{Precision * Recall}{Precision + Recall}\n",
        "\\end{equation}"
      ]
    },
    {
      "attachments": {},
      "cell_type": "markdown",
      "id": "dda343ec",
      "metadata": {},
      "source": [
        "Precision-Recall (PR) curve and Area Under the Curve (AUC) curve are evaluation metrics commonly used in binary classification problems to assess the performance of a model and determine an appropriate threshold for decision making.\n",
        "\n",
        "The Precision-Recall (PR) curve is a graphical representation of the trade-off between precision and recall for different classification thresholds. Precision is the ratio of true positive predictions to the total number of positive predictions, while recall (also known as sensitivity or true positive rate) is the ratio of true positive predictions to the total number of actual positive instances in the data. The PR curve plots precision on the y-axis and recall on the x-axis, with each point on the curve representing a different classification threshold. A higher precision and recall indicate better model performance.\n",
        "\n",
        "The Area Under the Curve (AUC) is a single scalar value that summarizes the PR curve. It measures the overall performance of the model across all possible classification thresholds. The AUC value ranges from 0 to 1, where a higher value indicates better model performance. An AUC of 1 represents a perfect model that achieves maximum precision and recall across all thresholds.\n",
        "\n",
        "Choosing the right threshold depends on the specific requirements of your problem. The PR curve can help you visualize the precision-recall trade-off at different thresholds. If your problem prioritizes precision (minimizing false positives), you may want to choose a threshold that maximizes precision while maintaining a reasonable level of recall. On the other hand, if recall is more important (minimizing false negatives), you would choose a threshold that maximizes recall while still maintaining an acceptable level of precision.\n",
        "\n",
        "The selection of the threshold ultimately depends on the cost or impact of false positives and false negatives in your specific problem domain. By analyzing the PR curve and considering the specific requirements and trade-offs of your problem, you can make an informed decision about the threshold that best balances precision and recall for your particular use case.\n",
        "\n",
        "\n",
        "\n",
        "\n",
        "\n"
      ]
    },
    {
      "cell_type": "code",
      "execution_count": null,
      "id": "7d82e76a",
      "metadata": {
        "id": "7d82e76a"
      },
      "outputs": [],
      "source": [
        "def get_evaluation_metrics(model_name, model, pred, actual):\n",
        "    print(\"Accuracy of %s: \" % model_name, accuracy_score(pred, actual))"
      ]
    },
    {
      "cell_type": "code",
      "execution_count": null,
      "id": "4a29ac28",
      "metadata": {
        "id": "4a29ac28",
        "outputId": "8fe9aff2-192b-4e67-d349-b62f15ee6f16"
      },
      "outputs": [],
      "source": [
        "get_evaluation_metrics(\"Random Forest\", rf, rf.predict(X_test), y_test)\n",
        "get_evaluation_metrics(\"XGBoost\", xgb, xgb.predict(X_test), y_test)\n",
        "get_evaluation_metrics(\"Light GBM\", lgb, lgb.predict(X_test), y_test)"
      ]
    },
    {
      "cell_type": "code",
      "execution_count": null,
      "id": "09274f1e",
      "metadata": {
        "id": "09274f1e",
        "outputId": "1456a65a-745b-45c9-94e7-9a843acd3a5e"
      },
      "outputs": [],
      "source": [
        "plot_precision_recall_curve(rf, X_test, y_test)\n",
        "plot_roc_curve(rf, X_test, y_test)"
      ]
    },
    {
      "cell_type": "code",
      "execution_count": null,
      "id": "8d6d2332",
      "metadata": {
        "id": "8d6d2332",
        "outputId": "0d418771-e2dd-43dc-a786-6786b43e1f09"
      },
      "outputs": [],
      "source": [
        "plot_precision_recall_curve(xgb, X_test, y_test)\n",
        "plot_roc_curve(xgb, X_test, y_test)\n",
        "checkpoint(\"fcMar1\")"
      ]
    },
    {
      "cell_type": "code",
      "execution_count": null,
      "id": "6de17ac9",
      "metadata": {
        "id": "6de17ac9",
        "outputId": "edf9b4eb-44ee-4127-b7f0-fac7f03f6d03"
      },
      "outputs": [],
      "source": [
        "plot_precision_recall_curve(lgb, X_test, y_test)\n",
        "plot_roc_curve(lgb, X_test, y_test)"
      ]
    },
    {
      "attachments": {},
      "cell_type": "markdown",
      "id": "5258426c",
      "metadata": {
        "id": "5258426c"
      },
      "source": [
        "### **Think about it**\n",
        "\n",
        "- Although numerically results are similar for XGBoost and LightGBM, which one do you think is better?\n",
        "- Why does PR curve matter here? Think in terms of business justfication!"
      ]
    },
    {
      "attachments": {},
      "cell_type": "markdown",
      "id": "133e3eaf",
      "metadata": {
        "id": "133e3eaf"
      },
      "source": [
        "# **Try it out**\n",
        "\n",
        "- Can you try out grid-search to tune hyperparameters for these models?\n",
        "\n",
        "- Can you come up with the right thresholds for these models depending on what do you feel is more important here? Precision or recall?\n",
        "\n",
        "- Can you train a multi-layer perceptron and check the performance?"
      ]
    },
    {
      "attachments": {},
      "cell_type": "markdown",
      "id": "131ca905",
      "metadata": {
        "id": "131ca905"
      },
      "source": [
        "## **Conclusion**\n",
        "\n",
        "In this project we used a bunch of supervised models to predict if the customer would be interested in a lead.\n",
        "\n",
        "The problem could have been formulated as a multi-class classification problem but we instead formulated this as a binary classification problem and the confidence on the predictions would enable the stakeholders to chase the lead.\n",
        "\n",
        "\n",
        "A successful data science project requires a clear understanding of the business problem and the data available, as well as the ability to select and apply appropriate data preprocessing techniques, feature engineering methods, and machine learning algorithms. It is also important to assess and optimize the performance of the model and communicate the results effectively to stakeholders.\n",
        "\n",
        "After looking at the PR and ROC curves above, we can conclude that <b>LightGBM</b> is giving us the best possible results."
      ]
    },
    {
      "attachments": {},
      "cell_type": "markdown",
      "id": "71eda412",
      "metadata": {
        "id": "71eda412"
      },
      "source": [
        "## **Interview Questions**\n",
        "\n",
        "### **Supervised Learning:**\n",
        "\n",
        "* What are decision trees? How does the model decide on the split?\n",
        "* What is boostrap aggregation?\n",
        "* Explain bias and variance in context of boosting and bagging?\n",
        "* How can you use decision tree for missing value imputation?\n",
        "* How does regularization work in gradient boosting models?\n",
        "\n",
        "\n",
        "### **Code Implementation:**\n",
        "\n",
        "* Is bagging or boosting computationally faster?\n",
        "* Can you write your own code to calculate precision and recall?\n",
        "* How would you handle dataset if the target variable would have been imbalanced?"
      ]
    },
    {
      "attachments": {},
      "cell_type": "markdown",
      "id": "94ee13fe",
      "metadata": {},
      "source": [
        "## **Feedback**"
      ]
    },
    {
      "cell_type": "code",
      "execution_count": null,
      "id": "50962f33",
      "metadata": {
        "id": "50962f33"
      },
      "outputs": [],
      "source": [
        "feedback()"
      ]
    },
    {
      "cell_type": "code",
      "execution_count": null,
      "id": "ced09f88",
      "metadata": {},
      "outputs": [],
      "source": []
    }
  ],
  "metadata": {
    "colab": {
      "provenance": []
    },
    "kernelspec": {
      "display_name": "Python 3",
      "language": "python",
      "name": "python3"
    },
    "language_info": {
      "codemirror_mode": {
        "name": "ipython",
        "version": 3
      },
      "file_extension": ".py",
      "mimetype": "text/x-python",
      "name": "python",
      "nbconvert_exporter": "python",
      "pygments_lexer": "ipython3",
      "version": "3.8.10"
    }
  },
  "nbformat": 4,
  "nbformat_minor": 5
}
